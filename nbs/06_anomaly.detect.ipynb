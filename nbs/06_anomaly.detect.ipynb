{
 "cells": [
  {
   "cell_type": "markdown",
   "metadata": {},
   "source": [
    "Anomaly Detection\n",
    "===\n",
    ">  Includes the anomaly detection algorithm, i.e. the prediction model, the loss functions and the anomaly score calculation and classification, as well as the metric computation."
   ]
  },
  {
   "cell_type": "code",
   "execution_count": 148,
   "metadata": {},
   "outputs": [],
   "source": [
    "#| default_exp anomaly.detect"
   ]
  },
  {
   "cell_type": "code",
   "execution_count": 149,
   "metadata": {},
   "outputs": [
    {
     "name": "stdout",
     "output_type": "stream",
     "text": [
      "The autoreload extension is already loaded. To reload it, use:\n",
      "  %reload_ext autoreload\n"
     ]
    }
   ],
   "source": [
    "#| hide\n",
    "%load_ext autoreload\n",
    "%autoreload 2\n",
    "%matplotlib inline"
   ]
  },
  {
   "cell_type": "code",
   "execution_count": 150,
   "metadata": {},
   "outputs": [],
   "source": [
    "#| hide\n",
    "from nbdev.showdoc import *"
   ]
  },
  {
   "cell_type": "code",
   "execution_count": 151,
   "metadata": {},
   "outputs": [],
   "source": [
    "#| export\n",
    "from fastai.basics import *\n",
    "from pympp.process import *\n",
    "from fastai.callback.all import *\n",
    "from sklearn.metrics import f1_score,accuracy_score,precision_score,recall_score\n",
    "from fastai.tabular.model import get_emb_sz"
   ]
  },
  {
   "cell_type": "markdown",
   "metadata": {},
   "source": [
    "## Only Control-flow "
   ]
  },
  {
   "cell_type": "code",
   "execution_count": 152,
   "metadata": {},
   "outputs": [],
   "source": [
    "log_name='pdc_2020_0101100'"
   ]
  },
  {
   "cell_type": "code",
   "execution_count": 153,
   "metadata": {},
   "outputs": [
    {
     "data": {
      "text/html": [
       "<div>\n",
       "<style scoped>\n",
       "    .dataframe tbody tr th:only-of-type {\n",
       "        vertical-align: middle;\n",
       "    }\n",
       "\n",
       "    .dataframe tbody tr th {\n",
       "        vertical-align: top;\n",
       "    }\n",
       "\n",
       "    .dataframe thead th {\n",
       "        text-align: right;\n",
       "    }\n",
       "</style>\n",
       "<table border=\"1\" class=\"dataframe\">\n",
       "  <thead>\n",
       "    <tr style=\"text-align: right;\">\n",
       "      <th></th>\n",
       "      <th>activity</th>\n",
       "      <th>event_id</th>\n",
       "    </tr>\n",
       "    <tr>\n",
       "      <th>trace_id</th>\n",
       "      <th></th>\n",
       "      <th></th>\n",
       "    </tr>\n",
       "  </thead>\n",
       "  <tbody>\n",
       "    <tr>\n",
       "      <th>trace 1</th>\n",
       "      <td>###start###</td>\n",
       "      <td>0</td>\n",
       "    </tr>\n",
       "    <tr>\n",
       "      <th>trace 1</th>\n",
       "      <td>t31</td>\n",
       "      <td>1</td>\n",
       "    </tr>\n",
       "    <tr>\n",
       "      <th>trace 1</th>\n",
       "      <td>t41</td>\n",
       "      <td>2</td>\n",
       "    </tr>\n",
       "    <tr>\n",
       "      <th>trace 1</th>\n",
       "      <td>t26</td>\n",
       "      <td>3</td>\n",
       "    </tr>\n",
       "    <tr>\n",
       "      <th>trace 1</th>\n",
       "      <td>t36</td>\n",
       "      <td>4</td>\n",
       "    </tr>\n",
       "    <tr>\n",
       "      <th>trace 1</th>\n",
       "      <td>t44</td>\n",
       "      <td>5</td>\n",
       "    </tr>\n",
       "    <tr>\n",
       "      <th>trace 1</th>\n",
       "      <td>t54</td>\n",
       "      <td>6</td>\n",
       "    </tr>\n",
       "    <tr>\n",
       "      <th>trace 1</th>\n",
       "      <td>t33</td>\n",
       "      <td>7</td>\n",
       "    </tr>\n",
       "    <tr>\n",
       "      <th>trace 1</th>\n",
       "      <td>t23</td>\n",
       "      <td>8</td>\n",
       "    </tr>\n",
       "    <tr>\n",
       "      <th>trace 1</th>\n",
       "      <td>t65</td>\n",
       "      <td>9</td>\n",
       "    </tr>\n",
       "    <tr>\n",
       "      <th>trace 1</th>\n",
       "      <td>t76</td>\n",
       "      <td>10</td>\n",
       "    </tr>\n",
       "    <tr>\n",
       "      <th>trace 1</th>\n",
       "      <td>t21</td>\n",
       "      <td>11</td>\n",
       "    </tr>\n",
       "    <tr>\n",
       "      <th>trace 1</th>\n",
       "      <td>t74</td>\n",
       "      <td>12</td>\n",
       "    </tr>\n",
       "    <tr>\n",
       "      <th>trace 1</th>\n",
       "      <td>t32</td>\n",
       "      <td>13</td>\n",
       "    </tr>\n",
       "    <tr>\n",
       "      <th>trace 1</th>\n",
       "      <td>t64</td>\n",
       "      <td>14</td>\n",
       "    </tr>\n",
       "    <tr>\n",
       "      <th>trace 1</th>\n",
       "      <td>t41</td>\n",
       "      <td>15</td>\n",
       "    </tr>\n",
       "    <tr>\n",
       "      <th>trace 1</th>\n",
       "      <td>t33</td>\n",
       "      <td>16</td>\n",
       "    </tr>\n",
       "    <tr>\n",
       "      <th>trace 1</th>\n",
       "      <td>t23</td>\n",
       "      <td>17</td>\n",
       "    </tr>\n",
       "    <tr>\n",
       "      <th>trace 1</th>\n",
       "      <td>t21</td>\n",
       "      <td>18</td>\n",
       "    </tr>\n",
       "    <tr>\n",
       "      <th>trace 1</th>\n",
       "      <td>t32</td>\n",
       "      <td>19</td>\n",
       "    </tr>\n",
       "  </tbody>\n",
       "</table>\n",
       "</div>"
      ],
      "text/plain": [
       "             activity event_id\n",
       "trace_id                      \n",
       "trace 1   ###start###        0\n",
       "trace 1           t31        1\n",
       "trace 1           t41        2\n",
       "trace 1           t26        3\n",
       "trace 1           t36        4\n",
       "trace 1           t44        5\n",
       "trace 1           t54        6\n",
       "trace 1           t33        7\n",
       "trace 1           t23        8\n",
       "trace 1           t65        9\n",
       "trace 1           t76       10\n",
       "trace 1           t21       11\n",
       "trace 1           t74       12\n",
       "trace 1           t32       13\n",
       "trace 1           t64       14\n",
       "trace 1           t41       15\n",
       "trace 1           t33       16\n",
       "trace 1           t23       17\n",
       "trace 1           t21       18\n",
       "trace 1           t32       19"
      ]
     },
     "execution_count": 153,
     "metadata": {},
     "output_type": "execute_result"
    }
   ],
   "source": [
    "log = import_log(f'./data/logs/csv/dapnn_ds/PDC2020_training/{log_name}.csv.gz')\n",
    "log.head(20)"
   ]
  },
  {
   "cell_type": "markdown",
   "metadata": {},
   "source": [
    "Create PPObj with vocab and dataloaders\n"
   ]
  },
  {
   "cell_type": "code",
   "execution_count": 154,
   "metadata": {},
   "outputs": [],
   "source": [
    "#| export\n",
    "def training_dl(log,cat_names='activity',seed=45,ws=5,bs=32):\n",
    "    categorify=Categorify()\n",
    "\n",
    "    o=PPObj(log,procs=categorify,cat_names=cat_names,y_names=cat_names,splits=split_traces(log,seed=seed))\n",
    "    dls=o.get_dls(windows=partial(windows_fast,ws=ws),bs=bs)\n",
    "    return o,dls,categorify\n",
    "\n"
   ]
  },
  {
   "cell_type": "code",
   "execution_count": 155,
   "metadata": {},
   "outputs": [],
   "source": [
    "o,dls,categorify = training_dl(log)"
   ]
  },
  {
   "cell_type": "code",
   "execution_count": 156,
   "metadata": {},
   "outputs": [],
   "source": [
    "x,y= dls.one_batch()"
   ]
  },
  {
   "cell_type": "markdown",
   "metadata": {},
   "source": [
    " Define Deep Learning Model"
   ]
  },
  {
   "cell_type": "code",
   "execution_count": 157,
   "metadata": {},
   "outputs": [],
   "source": [
    "#| export\n",
    "class ControlFlowModel(torch.nn.Module) :\n",
    "    def __init__(self, o) :\n",
    "        super().__init__()\n",
    "        hidden=25\n",
    "        vocab_act=len(o.procs.categorify['activity'])\n",
    "        emb_dim_act = int(np.sqrt(vocab_act))+1\n",
    "\n",
    "        self.emb_act = nn.Embedding(vocab_act,emb_dim_act)\n",
    "        \n",
    "        self.lstm_act = nn.LSTM(emb_dim_act, hidden, batch_first=True, num_layers=2)\n",
    "\n",
    "        self.linear_act = nn.Linear(hidden, vocab_act)\n",
    "\n",
    "    def forward(self, xcat):\n",
    "        xcat=xcat[:,0]\n",
    "        x_act=xcat\n",
    "        x_act = self.emb_act(x_act)\n",
    "        x_act,_ = self.lstm_act(x_act)\n",
    "        x_act = x_act[:,-1]\n",
    "        x_act = self.linear_act(x_act)\n",
    "        return x_act"
   ]
  },
  {
   "cell_type": "code",
   "execution_count": 158,
   "metadata": {},
   "outputs": [],
   "source": [
    "m=ControlFlowModel(o)\n"
   ]
  },
  {
   "cell_type": "code",
   "execution_count": 159,
   "metadata": {},
   "outputs": [],
   "source": [
    "pred=m(x.cpu())"
   ]
  },
  {
   "cell_type": "code",
   "execution_count": 160,
   "metadata": {},
   "outputs": [
    {
     "data": {
      "text/plain": [
       "tensor([20, 14, 20, 24, 10, 19, 23, 18, 23, 14, 14, 15, 14,  6, 19, 12, 14,  8,\n",
       "        23, 16, 17, 10, 22, 13,  6, 26, 13, 14, 11, 19,  6, 15])"
      ]
     },
     "execution_count": 160,
     "metadata": {},
     "output_type": "execute_result"
    }
   ],
   "source": [
    "y[0].cpu()"
   ]
  },
  {
   "cell_type": "code",
   "execution_count": 161,
   "metadata": {},
   "outputs": [],
   "source": [
    "squeeze_cross_entropy = lambda x,y:F.cross_entropy(x,y[0])\n",
    "squeeze_accuracy =lambda x,y:accuracy(x,y[0])\n"
   ]
  },
  {
   "cell_type": "code",
   "execution_count": 162,
   "metadata": {},
   "outputs": [
    {
     "data": {
      "text/plain": [
       "(tensor(3.2628, device='cuda:0', grad_fn=<NllLossBackward>),\n",
       " TensorBase(0.1875, device='cuda:0'))"
      ]
     },
     "execution_count": 162,
     "metadata": {},
     "output_type": "execute_result"
    }
   ],
   "source": [
    "squeeze_cross_entropy(pred.cuda(),y),squeeze_accuracy(pred.cuda(),y)"
   ]
  },
  {
   "cell_type": "markdown",
   "metadata": {},
   "source": [
    "Define Training Loop and Helper Functions"
   ]
  },
  {
   "cell_type": "code",
   "execution_count": 163,
   "metadata": {},
   "outputs": [],
   "source": [
    "#| export\n",
    "\n",
    "class HideOutput:\n",
    "    'A utility function that hides all outputs in a context'\n",
    "    def __enter__(self):\n",
    "        self._original_stdout = sys.stdout\n",
    "        sys.stdout = open(os.devnull, 'w')\n",
    "\n",
    "    def __exit__(self, exc_type, exc_val, exc_tb):\n",
    "        sys.stdout.close()\n",
    "        sys.stdout = self._original_stdout\n",
    "        \n",
    "def training_loop(learn,epoch,print_output,lr_find):\n",
    "    '''\n",
    "    Basic training loop that uses learning rate finder and one cycle training. \n",
    "    See fastai docs for more information\n",
    "    '''\n",
    "    if lr_find:\n",
    "        lr=np.median([learn.lr_find(show_plot=print_output)[0] for i in range(5)])\n",
    "        learn.fit_one_cycle(epoch,float(lr))\n",
    "    else: learn.fit(epoch,0.01)\n",
    "        \n",
    "def train_validate(dls,m,metrics=accuracy,loss=F.cross_entropy,epoch=20,print_output=True,model_dir=\".\",lr_find=True,\n",
    "                   patience=5,min_delta=0.005,show_plot=True,store_path='tmp',model_name='.model'):\n",
    "    '''\n",
    "    Trains a model on the training set with early stopping based on the validation loss.\n",
    "    Afterwards, applies it to the test set.\n",
    "    '''\n",
    "    cbs = [\n",
    "      EarlyStoppingCallback(monitor='valid_loss',min_delta=min_delta, patience=patience),\n",
    "      SaveModelCallback(fname=model_name),\n",
    "      ]\n",
    "    learn=Learner(dls, m, path=store_path, model_dir=model_dir, loss_func=loss ,metrics=metrics,cbs=cbs)\n",
    "\n",
    "    if print_output:\n",
    "        training_loop(learn,epoch,show_plot,lr_find=lr_find)\n",
    "        return learn.validate(dl=dls[2])\n",
    "    else:\n",
    "        with HideOutput(),learn.no_bar(),learn.no_logging():\n",
    "            training_loop(learn,epoch,show_plot,lr_find=lr_find)\n",
    "            return learn.validate(dl=dls[2])"
   ]
  },
  {
   "cell_type": "markdown",
   "metadata": {},
   "source": [
    "Train prediction model"
   ]
  },
  {
   "cell_type": "code",
   "execution_count": 164,
   "metadata": {},
   "outputs": [
    {
     "data": {
      "text/html": [
       "\n",
       "<style>\n",
       "    /* Turns off some styling */\n",
       "    progress {\n",
       "        /* gets rid of default border in Firefox and Opera. */\n",
       "        border: none;\n",
       "        /* Needs to be in here for Safari polyfill so background images work as expected. */\n",
       "        background-size: auto;\n",
       "    }\n",
       "    progress:not([value]), progress:not([value])::-webkit-progress-bar {\n",
       "        background: repeating-linear-gradient(45deg, #7e7e7e, #7e7e7e 10px, #5c5c5c 10px, #5c5c5c 20px);\n",
       "    }\n",
       "    .progress-bar-interrupted, .progress-bar-interrupted::-webkit-progress-bar {\n",
       "        background: #F44336;\n",
       "    }\n",
       "</style>\n"
      ],
      "text/plain": [
       "<IPython.core.display.HTML object>"
      ]
     },
     "metadata": {},
     "output_type": "display_data"
    },
    {
     "data": {
      "text/html": [],
      "text/plain": [
       "<IPython.core.display.HTML object>"
      ]
     },
     "metadata": {},
     "output_type": "display_data"
    },
    {
     "data": {
      "text/html": [
       "\n",
       "<style>\n",
       "    /* Turns off some styling */\n",
       "    progress {\n",
       "        /* gets rid of default border in Firefox and Opera. */\n",
       "        border: none;\n",
       "        /* Needs to be in here for Safari polyfill so background images work as expected. */\n",
       "        background-size: auto;\n",
       "    }\n",
       "    progress:not([value]), progress:not([value])::-webkit-progress-bar {\n",
       "        background: repeating-linear-gradient(45deg, #7e7e7e, #7e7e7e 10px, #5c5c5c 10px, #5c5c5c 20px);\n",
       "    }\n",
       "    .progress-bar-interrupted, .progress-bar-interrupted::-webkit-progress-bar {\n",
       "        background: #F44336;\n",
       "    }\n",
       "</style>\n"
      ],
      "text/plain": [
       "<IPython.core.display.HTML object>"
      ]
     },
     "metadata": {},
     "output_type": "display_data"
    },
    {
     "data": {
      "text/html": [],
      "text/plain": [
       "<IPython.core.display.HTML object>"
      ]
     },
     "metadata": {},
     "output_type": "display_data"
    },
    {
     "data": {
      "text/html": [
       "\n",
       "<style>\n",
       "    /* Turns off some styling */\n",
       "    progress {\n",
       "        /* gets rid of default border in Firefox and Opera. */\n",
       "        border: none;\n",
       "        /* Needs to be in here for Safari polyfill so background images work as expected. */\n",
       "        background-size: auto;\n",
       "    }\n",
       "    progress:not([value]), progress:not([value])::-webkit-progress-bar {\n",
       "        background: repeating-linear-gradient(45deg, #7e7e7e, #7e7e7e 10px, #5c5c5c 10px, #5c5c5c 20px);\n",
       "    }\n",
       "    .progress-bar-interrupted, .progress-bar-interrupted::-webkit-progress-bar {\n",
       "        background: #F44336;\n",
       "    }\n",
       "</style>\n"
      ],
      "text/plain": [
       "<IPython.core.display.HTML object>"
      ]
     },
     "metadata": {},
     "output_type": "display_data"
    },
    {
     "data": {
      "text/html": [],
      "text/plain": [
       "<IPython.core.display.HTML object>"
      ]
     },
     "metadata": {},
     "output_type": "display_data"
    },
    {
     "data": {
      "text/html": [
       "\n",
       "<style>\n",
       "    /* Turns off some styling */\n",
       "    progress {\n",
       "        /* gets rid of default border in Firefox and Opera. */\n",
       "        border: none;\n",
       "        /* Needs to be in here for Safari polyfill so background images work as expected. */\n",
       "        background-size: auto;\n",
       "    }\n",
       "    progress:not([value]), progress:not([value])::-webkit-progress-bar {\n",
       "        background: repeating-linear-gradient(45deg, #7e7e7e, #7e7e7e 10px, #5c5c5c 10px, #5c5c5c 20px);\n",
       "    }\n",
       "    .progress-bar-interrupted, .progress-bar-interrupted::-webkit-progress-bar {\n",
       "        background: #F44336;\n",
       "    }\n",
       "</style>\n"
      ],
      "text/plain": [
       "<IPython.core.display.HTML object>"
      ]
     },
     "metadata": {},
     "output_type": "display_data"
    },
    {
     "data": {
      "text/html": [],
      "text/plain": [
       "<IPython.core.display.HTML object>"
      ]
     },
     "metadata": {},
     "output_type": "display_data"
    },
    {
     "data": {
      "text/html": [
       "\n",
       "<style>\n",
       "    /* Turns off some styling */\n",
       "    progress {\n",
       "        /* gets rid of default border in Firefox and Opera. */\n",
       "        border: none;\n",
       "        /* Needs to be in here for Safari polyfill so background images work as expected. */\n",
       "        background-size: auto;\n",
       "    }\n",
       "    progress:not([value]), progress:not([value])::-webkit-progress-bar {\n",
       "        background: repeating-linear-gradient(45deg, #7e7e7e, #7e7e7e 10px, #5c5c5c 10px, #5c5c5c 20px);\n",
       "    }\n",
       "    .progress-bar-interrupted, .progress-bar-interrupted::-webkit-progress-bar {\n",
       "        background: #F44336;\n",
       "    }\n",
       "</style>\n"
      ],
      "text/plain": [
       "<IPython.core.display.HTML object>"
      ]
     },
     "metadata": {},
     "output_type": "display_data"
    },
    {
     "data": {
      "text/html": [],
      "text/plain": [
       "<IPython.core.display.HTML object>"
      ]
     },
     "metadata": {},
     "output_type": "display_data"
    },
    {
     "data": {
      "text/html": [
       "\n",
       "<style>\n",
       "    /* Turns off some styling */\n",
       "    progress {\n",
       "        /* gets rid of default border in Firefox and Opera. */\n",
       "        border: none;\n",
       "        /* Needs to be in here for Safari polyfill so background images work as expected. */\n",
       "        background-size: auto;\n",
       "    }\n",
       "    progress:not([value]), progress:not([value])::-webkit-progress-bar {\n",
       "        background: repeating-linear-gradient(45deg, #7e7e7e, #7e7e7e 10px, #5c5c5c 10px, #5c5c5c 20px);\n",
       "    }\n",
       "    .progress-bar-interrupted, .progress-bar-interrupted::-webkit-progress-bar {\n",
       "        background: #F44336;\n",
       "    }\n",
       "</style>\n"
      ],
      "text/plain": [
       "<IPython.core.display.HTML object>"
      ]
     },
     "metadata": {},
     "output_type": "display_data"
    },
    {
     "data": {
      "text/html": [
       "<table border=\"1\" class=\"dataframe\">\n",
       "  <thead>\n",
       "    <tr style=\"text-align: left;\">\n",
       "      <th>epoch</th>\n",
       "      <th>train_loss</th>\n",
       "      <th>valid_loss</th>\n",
       "      <th><lambda></th>\n",
       "      <th>time</th>\n",
       "    </tr>\n",
       "  </thead>\n",
       "  <tbody>\n",
       "    <tr>\n",
       "      <td>0</td>\n",
       "      <td>2.517840</td>\n",
       "      <td>2.400468</td>\n",
       "      <td>0.266471</td>\n",
       "      <td>00:06</td>\n",
       "    </tr>\n",
       "    <tr>\n",
       "      <td>1</td>\n",
       "      <td>1.628425</td>\n",
       "      <td>1.553959</td>\n",
       "      <td>0.476818</td>\n",
       "      <td>00:06</td>\n",
       "    </tr>\n",
       "    <tr>\n",
       "      <td>2</td>\n",
       "      <td>1.312923</td>\n",
       "      <td>1.262455</td>\n",
       "      <td>0.503660</td>\n",
       "      <td>00:06</td>\n",
       "    </tr>\n",
       "    <tr>\n",
       "      <td>3</td>\n",
       "      <td>1.166748</td>\n",
       "      <td>1.173147</td>\n",
       "      <td>0.507077</td>\n",
       "      <td>00:06</td>\n",
       "    </tr>\n",
       "    <tr>\n",
       "      <td>4</td>\n",
       "      <td>1.141692</td>\n",
       "      <td>1.086159</td>\n",
       "      <td>0.520742</td>\n",
       "      <td>00:06</td>\n",
       "    </tr>\n",
       "    <tr>\n",
       "      <td>5</td>\n",
       "      <td>1.081097</td>\n",
       "      <td>1.092973</td>\n",
       "      <td>0.495364</td>\n",
       "      <td>00:06</td>\n",
       "    </tr>\n",
       "    <tr>\n",
       "      <td>6</td>\n",
       "      <td>1.072851</td>\n",
       "      <td>1.053992</td>\n",
       "      <td>0.523670</td>\n",
       "      <td>00:06</td>\n",
       "    </tr>\n",
       "    <tr>\n",
       "      <td>7</td>\n",
       "      <td>1.057887</td>\n",
       "      <td>1.058307</td>\n",
       "      <td>0.514397</td>\n",
       "      <td>00:06</td>\n",
       "    </tr>\n",
       "    <tr>\n",
       "      <td>8</td>\n",
       "      <td>1.058676</td>\n",
       "      <td>1.028091</td>\n",
       "      <td>0.517326</td>\n",
       "      <td>00:06</td>\n",
       "    </tr>\n",
       "    <tr>\n",
       "      <td>9</td>\n",
       "      <td>1.012709</td>\n",
       "      <td>1.033957</td>\n",
       "      <td>0.514397</td>\n",
       "      <td>00:06</td>\n",
       "    </tr>\n",
       "    <tr>\n",
       "      <td>10</td>\n",
       "      <td>1.028024</td>\n",
       "      <td>1.039211</td>\n",
       "      <td>0.518302</td>\n",
       "      <td>00:06</td>\n",
       "    </tr>\n",
       "    <tr>\n",
       "      <td>11</td>\n",
       "      <td>1.017703</td>\n",
       "      <td>1.024853</td>\n",
       "      <td>0.518302</td>\n",
       "      <td>00:05</td>\n",
       "    </tr>\n",
       "    <tr>\n",
       "      <td>12</td>\n",
       "      <td>1.000363</td>\n",
       "      <td>1.023521</td>\n",
       "      <td>0.523670</td>\n",
       "      <td>00:06</td>\n",
       "    </tr>\n",
       "    <tr>\n",
       "      <td>13</td>\n",
       "      <td>1.007020</td>\n",
       "      <td>1.011746</td>\n",
       "      <td>0.515861</td>\n",
       "      <td>00:06</td>\n",
       "    </tr>\n",
       "    <tr>\n",
       "      <td>14</td>\n",
       "      <td>0.977153</td>\n",
       "      <td>1.010085</td>\n",
       "      <td>0.525622</td>\n",
       "      <td>00:06</td>\n",
       "    </tr>\n",
       "    <tr>\n",
       "      <td>15</td>\n",
       "      <td>0.951577</td>\n",
       "      <td>1.014484</td>\n",
       "      <td>0.525134</td>\n",
       "      <td>00:06</td>\n",
       "    </tr>\n",
       "    <tr>\n",
       "      <td>16</td>\n",
       "      <td>0.982534</td>\n",
       "      <td>1.011046</td>\n",
       "      <td>0.526110</td>\n",
       "      <td>00:06</td>\n",
       "    </tr>\n",
       "    <tr>\n",
       "      <td>17</td>\n",
       "      <td>0.947973</td>\n",
       "      <td>1.008882</td>\n",
       "      <td>0.526110</td>\n",
       "      <td>00:06</td>\n",
       "    </tr>\n",
       "    <tr>\n",
       "      <td>18</td>\n",
       "      <td>0.965707</td>\n",
       "      <td>1.007773</td>\n",
       "      <td>0.523182</td>\n",
       "      <td>00:06</td>\n",
       "    </tr>\n",
       "  </tbody>\n",
       "</table>"
      ],
      "text/plain": [
       "<IPython.core.display.HTML object>"
      ]
     },
     "metadata": {},
     "output_type": "display_data"
    },
    {
     "name": "stdout",
     "output_type": "stream",
     "text": [
      "Better model found at epoch 0 with valid_loss value: 2.400468349456787.\n",
      "Better model found at epoch 1 with valid_loss value: 1.5539591312408447.\n",
      "Better model found at epoch 2 with valid_loss value: 1.262454628944397.\n",
      "Better model found at epoch 3 with valid_loss value: 1.173147201538086.\n",
      "Better model found at epoch 4 with valid_loss value: 1.0861592292785645.\n",
      "Better model found at epoch 6 with valid_loss value: 1.0539923906326294.\n",
      "Better model found at epoch 8 with valid_loss value: 1.028091311454773.\n",
      "Better model found at epoch 11 with valid_loss value: 1.0248527526855469.\n",
      "Better model found at epoch 12 with valid_loss value: 1.0235213041305542.\n",
      "Better model found at epoch 13 with valid_loss value: 1.0117459297180176.\n",
      "Better model found at epoch 14 with valid_loss value: 1.010084867477417.\n",
      "Better model found at epoch 17 with valid_loss value: 1.0088822841644287.\n",
      "Better model found at epoch 18 with valid_loss value: 1.0077729225158691.\n",
      "No improvement since epoch 13: early stopping\n"
     ]
    },
    {
     "data": {
      "text/html": [
       "\n",
       "<style>\n",
       "    /* Turns off some styling */\n",
       "    progress {\n",
       "        /* gets rid of default border in Firefox and Opera. */\n",
       "        border: none;\n",
       "        /* Needs to be in here for Safari polyfill so background images work as expected. */\n",
       "        background-size: auto;\n",
       "    }\n",
       "    progress:not([value]), progress:not([value])::-webkit-progress-bar {\n",
       "        background: repeating-linear-gradient(45deg, #7e7e7e, #7e7e7e 10px, #5c5c5c 10px, #5c5c5c 20px);\n",
       "    }\n",
       "    .progress-bar-interrupted, .progress-bar-interrupted::-webkit-progress-bar {\n",
       "        background: #F44336;\n",
       "    }\n",
       "</style>\n"
      ],
      "text/plain": [
       "<IPython.core.display.HTML object>"
      ]
     },
     "metadata": {},
     "output_type": "display_data"
    },
    {
     "data": {
      "text/html": [],
      "text/plain": [
       "<IPython.core.display.HTML object>"
      ]
     },
     "metadata": {},
     "output_type": "display_data"
    },
    {
     "name": "stdout",
     "output_type": "stream",
     "text": [
      "Better model found at epoch 0 with valid_loss value: 0.5207814574241638.\n"
     ]
    },
    {
     "data": {
      "image/png": "[encoded data removed]",
      "text/plain": [
       "<Figure size 640x480 with 1 Axes>"
      ]
     },
     "metadata": {},
     "output_type": "display_data"
    },
    {
     "data": {
      "image/png": "[encoded data removed]",
      "text/plain": [
       "<Figure size 640x480 with 1 Axes>"
      ]
     },
     "metadata": {},
     "output_type": "display_data"
    },
    {
     "data": {
      "image/png": "[encoded data removed]",
      "text/plain": [
       "<Figure size 640x480 with 1 Axes>"
      ]
     },
     "metadata": {},
     "output_type": "display_data"
    },
    {
     "data": {
      "image/png": "[encoded data removed]",
      "text/plain": [
       "<Figure size 640x480 with 1 Axes>"
      ]
     },
     "metadata": {},
     "output_type": "display_data"
    },
    {
     "data": {
      "image/png": "[encoded data removed]",
      "text/plain": [
       "<Figure size 640x480 with 1 Axes>"
      ]
     },
     "metadata": {},
     "output_type": "display_data"
    }
   ],
   "source": [
    "train_val = train_validate(dls,m,epoch=25,metrics=squeeze_accuracy,loss=squeeze_cross_entropy)"
   ]
  },
  {
   "cell_type": "markdown",
   "metadata": {},
   "source": [
    "Load Test Log"
   ]
  },
  {
   "cell_type": "code",
   "execution_count": 165,
   "metadata": {},
   "outputs": [],
   "source": [
    "#| export\n",
    "def import_log_pdc(log):\n",
    "    df = import_log(log)\n",
    "    log = df.rename({\"case:pdc:isPos\":'normal'},axis=1,inplace=True)\n",
    "    return df"
   ]
  },
  {
   "cell_type": "code",
   "execution_count": 166,
   "metadata": {},
   "outputs": [
    {
     "data": {
      "text/html": [
       "<div>\n",
       "<style scoped>\n",
       "    .dataframe tbody tr th:only-of-type {\n",
       "        vertical-align: middle;\n",
       "    }\n",
       "\n",
       "    .dataframe tbody tr th {\n",
       "        vertical-align: top;\n",
       "    }\n",
       "\n",
       "    .dataframe thead th {\n",
       "        text-align: right;\n",
       "    }\n",
       "</style>\n",
       "<table border=\"1\" class=\"dataframe\">\n",
       "  <thead>\n",
       "    <tr style=\"text-align: right;\">\n",
       "      <th></th>\n",
       "      <th>activity</th>\n",
       "      <th>case:pdc:costs</th>\n",
       "      <th>normal</th>\n",
       "      <th>event_id</th>\n",
       "    </tr>\n",
       "    <tr>\n",
       "      <th>trace_id</th>\n",
       "      <th></th>\n",
       "      <th></th>\n",
       "      <th></th>\n",
       "      <th></th>\n",
       "    </tr>\n",
       "  </thead>\n",
       "  <tbody>\n",
       "    <tr>\n",
       "      <th>trace 1</th>\n",
       "      <td>###start###</td>\n",
       "      <td>0.0</td>\n",
       "      <td>True</td>\n",
       "      <td>0</td>\n",
       "    </tr>\n",
       "    <tr>\n",
       "      <th>trace 1</th>\n",
       "      <td>t21</td>\n",
       "      <td>0.0</td>\n",
       "      <td>True</td>\n",
       "      <td>1</td>\n",
       "    </tr>\n",
       "    <tr>\n",
       "      <th>trace 1</th>\n",
       "      <td>t32</td>\n",
       "      <td>0.0</td>\n",
       "      <td>True</td>\n",
       "      <td>2</td>\n",
       "    </tr>\n",
       "    <tr>\n",
       "      <th>trace 1</th>\n",
       "      <td>t26</td>\n",
       "      <td>0.0</td>\n",
       "      <td>True</td>\n",
       "      <td>3</td>\n",
       "    </tr>\n",
       "    <tr>\n",
       "      <th>trace 1</th>\n",
       "      <td>t41</td>\n",
       "      <td>0.0</td>\n",
       "      <td>True</td>\n",
       "      <td>4</td>\n",
       "    </tr>\n",
       "    <tr>\n",
       "      <th>trace 1</th>\n",
       "      <td>t35</td>\n",
       "      <td>0.0</td>\n",
       "      <td>True</td>\n",
       "      <td>5</td>\n",
       "    </tr>\n",
       "    <tr>\n",
       "      <th>trace 1</th>\n",
       "      <td>t44</td>\n",
       "      <td>0.0</td>\n",
       "      <td>True</td>\n",
       "      <td>6</td>\n",
       "    </tr>\n",
       "    <tr>\n",
       "      <th>trace 1</th>\n",
       "      <td>t34</td>\n",
       "      <td>0.0</td>\n",
       "      <td>True</td>\n",
       "      <td>7</td>\n",
       "    </tr>\n",
       "    <tr>\n",
       "      <th>trace 1</th>\n",
       "      <td>t24</td>\n",
       "      <td>0.0</td>\n",
       "      <td>True</td>\n",
       "      <td>8</td>\n",
       "    </tr>\n",
       "    <tr>\n",
       "      <th>trace 1</th>\n",
       "      <td>t33</td>\n",
       "      <td>0.0</td>\n",
       "      <td>True</td>\n",
       "      <td>9</td>\n",
       "    </tr>\n",
       "    <tr>\n",
       "      <th>trace 1</th>\n",
       "      <td>t26</td>\n",
       "      <td>0.0</td>\n",
       "      <td>True</td>\n",
       "      <td>10</td>\n",
       "    </tr>\n",
       "    <tr>\n",
       "      <th>trace 1</th>\n",
       "      <td>t36</td>\n",
       "      <td>0.0</td>\n",
       "      <td>True</td>\n",
       "      <td>11</td>\n",
       "    </tr>\n",
       "    <tr>\n",
       "      <th>trace 1</th>\n",
       "      <td>t44</td>\n",
       "      <td>0.0</td>\n",
       "      <td>True</td>\n",
       "      <td>12</td>\n",
       "    </tr>\n",
       "    <tr>\n",
       "      <th>trace 1</th>\n",
       "      <td>t23</td>\n",
       "      <td>0.0</td>\n",
       "      <td>True</td>\n",
       "      <td>13</td>\n",
       "    </tr>\n",
       "    <tr>\n",
       "      <th>trace 1</th>\n",
       "      <td>t54</td>\n",
       "      <td>0.0</td>\n",
       "      <td>True</td>\n",
       "      <td>14</td>\n",
       "    </tr>\n",
       "    <tr>\n",
       "      <th>trace 1</th>\n",
       "      <td>t21</td>\n",
       "      <td>0.0</td>\n",
       "      <td>True</td>\n",
       "      <td>15</td>\n",
       "    </tr>\n",
       "    <tr>\n",
       "      <th>trace 1</th>\n",
       "      <td>t32</td>\n",
       "      <td>0.0</td>\n",
       "      <td>True</td>\n",
       "      <td>16</td>\n",
       "    </tr>\n",
       "    <tr>\n",
       "      <th>trace 1</th>\n",
       "      <td>t66</td>\n",
       "      <td>0.0</td>\n",
       "      <td>True</td>\n",
       "      <td>17</td>\n",
       "    </tr>\n",
       "    <tr>\n",
       "      <th>trace 1</th>\n",
       "      <td>t41</td>\n",
       "      <td>0.0</td>\n",
       "      <td>True</td>\n",
       "      <td>18</td>\n",
       "    </tr>\n",
       "    <tr>\n",
       "      <th>trace 1</th>\n",
       "      <td>t51</td>\n",
       "      <td>0.0</td>\n",
       "      <td>True</td>\n",
       "      <td>19</td>\n",
       "    </tr>\n",
       "    <tr>\n",
       "      <th>trace 1</th>\n",
       "      <td>t62</td>\n",
       "      <td>0.0</td>\n",
       "      <td>True</td>\n",
       "      <td>20</td>\n",
       "    </tr>\n",
       "    <tr>\n",
       "      <th>trace 1</th>\n",
       "      <td>t71</td>\n",
       "      <td>0.0</td>\n",
       "      <td>True</td>\n",
       "      <td>21</td>\n",
       "    </tr>\n",
       "    <tr>\n",
       "      <th>trace 1</th>\n",
       "      <td>t76</td>\n",
       "      <td>0.0</td>\n",
       "      <td>True</td>\n",
       "      <td>22</td>\n",
       "    </tr>\n",
       "    <tr>\n",
       "      <th>trace 1</th>\n",
       "      <td>###end###</td>\n",
       "      <td>0.0</td>\n",
       "      <td>True</td>\n",
       "      <td>23</td>\n",
       "    </tr>\n",
       "    <tr>\n",
       "      <th>trace 2</th>\n",
       "      <td>###start###</td>\n",
       "      <td>0.0</td>\n",
       "      <td>True</td>\n",
       "      <td>0</td>\n",
       "    </tr>\n",
       "  </tbody>\n",
       "</table>\n",
       "</div>"
      ],
      "text/plain": [
       "             activity case:pdc:costs normal event_id\n",
       "trace_id                                            \n",
       "trace 1   ###start###            0.0   True        0\n",
       "trace 1           t21            0.0   True        1\n",
       "trace 1           t32            0.0   True        2\n",
       "trace 1           t26            0.0   True        3\n",
       "trace 1           t41            0.0   True        4\n",
       "trace 1           t35            0.0   True        5\n",
       "trace 1           t44            0.0   True        6\n",
       "trace 1           t34            0.0   True        7\n",
       "trace 1           t24            0.0   True        8\n",
       "trace 1           t33            0.0   True        9\n",
       "trace 1           t26            0.0   True       10\n",
       "trace 1           t36            0.0   True       11\n",
       "trace 1           t44            0.0   True       12\n",
       "trace 1           t23            0.0   True       13\n",
       "trace 1           t54            0.0   True       14\n",
       "trace 1           t21            0.0   True       15\n",
       "trace 1           t32            0.0   True       16\n",
       "trace 1           t66            0.0   True       17\n",
       "trace 1           t41            0.0   True       18\n",
       "trace 1           t51            0.0   True       19\n",
       "trace 1           t62            0.0   True       20\n",
       "trace 1           t71            0.0   True       21\n",
       "trace 1           t76            0.0   True       22\n",
       "trace 1     ###end###            0.0   True       23\n",
       "trace 2   ###start###            0.0   True        0"
      ]
     },
     "execution_count": 166,
     "metadata": {},
     "output_type": "execute_result"
    }
   ],
   "source": [
    "test_log = import_log_pdc(f'../data/logs/csv/dapnn_ds/PDC2020_ground_truth/{log_name}.csv.gz')\n",
    "\n",
    "test_log.head(25)"
   ]
  },
  {
   "cell_type": "markdown",
   "metadata": {},
   "source": [
    " Create PPOBJ of test data with same vocab"
   ]
  },
  {
   "cell_type": "code",
   "execution_count": 167,
   "metadata": {},
   "outputs": [],
   "source": [
    "#| export\n",
    "def process_test(test_log,categorify,cat_names='activity'):\n",
    "    o=PPObj(test_log,procs=categorify,cat_names=cat_names,y_names=cat_names,do_setup=False)\n",
    "    o.process()\n",
    "    return o\n"
   ]
  },
  {
   "cell_type": "code",
   "execution_count": 168,
   "metadata": {},
   "outputs": [],
   "source": [
    "o = process_test(test_log,categorify)"
   ]
  },
  {
   "cell_type": "markdown",
   "metadata": {},
   "source": [
    "Apply Prediction Model"
   ]
  },
  {
   "cell_type": "code",
   "execution_count": 169,
   "metadata": {},
   "outputs": [],
   "source": [
    "#| export\n",
    "def predict_next_step(o,m,ws=5):\n",
    "    wds,idx=partial(windows_fast,ws=ws)(o.xs, o.event_ids)\n",
    "    res=(m(LongTensor(wds).cuda()))\n",
    "    return res,idx"
   ]
  },
  {
   "cell_type": "code",
   "execution_count": 170,
   "metadata": {},
   "outputs": [],
   "source": [
    "nsp,idx=predict_next_step(o,m)"
   ]
  },
  {
   "cell_type": "code",
   "execution_count": 177,
   "metadata": {},
   "outputs": [
    {
     "data": {
      "text/plain": [
       "torch.Size([29095, 27])"
      ]
     },
     "execution_count": 177,
     "metadata": {},
     "output_type": "execute_result"
    }
   ],
   "source": [
    "nsp.shape"
   ]
  },
  {
   "cell_type": "markdown",
   "metadata": {},
   "source": [
    "Calculate Anomaly Score"
   ]
  },
  {
   "cell_type": "code",
   "execution_count": 171,
   "metadata": {},
   "outputs": [],
   "source": [
    "#| export\n",
    "def calc_anomaly_score(res,o,idx):\n",
    "    sm = nn.Softmax(dim=1)\n",
    "    y = o.items['activity'].iloc[idx].values\n",
    "    p = sm(res)\n",
    "    pred = p.max(1)[0]\n",
    "    truth = p[list(range(0, len(y))),y]\n",
    "    a_score = ((pred - truth) / pred).cpu().detach().numpy()\n",
    "    return a_score"
   ]
  },
  {
   "cell_type": "code",
   "execution_count": 172,
   "metadata": {},
   "outputs": [],
   "source": [
    "anomaly_score = calc_anomaly_score(nsp,o,idx)"
   ]
  },
  {
   "cell_type": "markdown",
   "metadata": {},
   "source": [
    "Classify Anomalies based of Threshhold, get predictions and ground truth, compute a few metrics"
   ]
  },
  {
   "cell_type": "code",
   "execution_count": 173,
   "metadata": {},
   "outputs": [],
   "source": [
    "#| export\n",
    "def get_anomalies(a_score,o,idx,threshhold=0.98):\n",
    "    df=pd.DataFrame(columns=[ 'a_score'])\n",
    "    df['a_score'] = a_score\n",
    "    df['trace_id'] = o.items.iloc[idx].index.values\n",
    "    df['normal'] = o.items.iloc[idx]['normal'].values\n",
    "    df\n",
    "\n",
    "    y_true = (df.loc[df.trace_id.drop_duplicates().index].normal==False).tolist()\n",
    "    cases = df.loc[df.trace_id.drop_duplicates().index].trace_id.tolist()\n",
    "    anomalies = set(list(df.loc[df['a_score'] > threshhold]['trace_id']))\n",
    "    y_pred=[case in anomalies for case in cases]\n",
    "    return y_pred,y_true"
   ]
  },
  {
   "cell_type": "code",
   "execution_count": 174,
   "metadata": {},
   "outputs": [],
   "source": [
    "y_pred, y_true = get_anomalies(anomaly_score,o,idx)"
   ]
  },
  {
   "cell_type": "code",
   "execution_count": 175,
   "metadata": {},
   "outputs": [
    {
     "data": {
      "text/plain": [
       "0.8446139180171591"
      ]
     },
     "execution_count": 175,
     "metadata": {},
     "output_type": "execute_result"
    }
   ],
   "source": [
    "f1_score(y_true, y_pred)"
   ]
  },
  {
   "cell_type": "code",
   "execution_count": null,
   "metadata": {},
   "outputs": [
    {
     "data": {
      "text/plain": [
       "0.828"
      ]
     },
     "execution_count": null,
     "metadata": {},
     "output_type": "execute_result"
    }
   ],
   "source": [
    "accuracy_score(y_true, y_pred)"
   ]
  },
  {
   "cell_type": "code",
   "execution_count": null,
   "metadata": {},
   "outputs": [
    {
     "data": {
      "text/plain": [
       "0.7289256198347107"
      ]
     },
     "execution_count": null,
     "metadata": {},
     "output_type": "execute_result"
    }
   ],
   "source": [
    "precision_score(y_true,y_pred)"
   ]
  },
  {
   "cell_type": "code",
   "execution_count": null,
   "metadata": {},
   "outputs": [
    {
     "data": {
      "text/plain": [
       "0.9821826280623608"
      ]
     },
     "execution_count": null,
     "metadata": {},
     "output_type": "execute_result"
    }
   ],
   "source": [
    "recall_score(y_true,y_pred)"
   ]
  },
  {
   "cell_type": "markdown",
   "metadata": {},
   "source": [
    "Get NSP Accuracy on Inrference"
   ]
  },
  {
   "cell_type": "code",
   "execution_count": null,
   "metadata": {},
   "outputs": [],
   "source": [
    "#| export\n",
    "def nsp_accuracy(o,idx,nsp):\n",
    "    nsp_y=o.ys.iloc[idx]\n",
    "    nsp_acc= accuracy(nsp,tensor(nsp_y.values).cuda())\n",
    "    return nsp_acc"
   ]
  },
  {
   "cell_type": "code",
   "execution_count": null,
   "metadata": {},
   "outputs": [
    {
     "data": {
      "text/plain": [
       "TensorBase(0.5081, device='cuda:0')"
      ]
     },
     "execution_count": null,
     "metadata": {},
     "output_type": "execute_result"
    }
   ],
   "source": [
    "nsp_accuracy(o,idx,nsp)"
   ]
  },
  {
   "cell_type": "markdown",
   "metadata": {},
   "source": [
    "Rewrite model to support multivariate prediction. Define attr_dict that maps event log to considerable attributes. Dynamically adapt preprocessing, network architecture, loss function, and anomaly score computation"
   ]
  },
  {
   "cell_type": "markdown",
   "metadata": {},
   "source": [
    "## Multivariate Anomaly Detection"
   ]
  },
  {
   "cell_type": "code",
   "execution_count": null,
   "metadata": {},
   "outputs": [],
   "source": [
    "#| export\n",
    "attr_dict={}\n",
    "for i in [i for i in glob.glob('data/logs/csv/dapnn_ds/binet_logs/*')]:\n",
    "    i=Path(i).stem[:-4]\n",
    "    if 'bpic12'in i:\n",
    "        attr_dict[i] =['activity']\n",
    "    elif 'bpic13' in i:\n",
    "        attr_dict[i]=['activity','org:group',\n",
    "'org:resource', 'org:role', 'organization country', 'product', 'resource country','impact']\n",
    "    elif 'bpic17' in i:  \n",
    "        attr_dict[i]=['activity','EventOrigin','org:resource']\n",
    "    elif 'bpic15' in i:\n",
    "        attr_dict[i]=['activity', 'action_code', 'activityNameEN', 'activityNameNL','monitoringResource', 'org:resource', 'question']\n",
    "    elif '-1' in i:\n",
    "        attr_dict[i]=['activity','user']\n",
    "    elif '-2' in i:\n",
    "        attr_dict[i]=['activity','user','day']\n",
    "    elif '-3' in i:\n",
    "        attr_dict[i]=['activity','user','day','country']\n",
    "    elif '-4' in i:\n",
    "        attr_dict[i]=['activity','user','day','country','company']"
   ]
  },
  {
   "cell_type": "code",
   "execution_count": null,
   "metadata": {},
   "outputs": [
    {
     "data": {
      "text/plain": [
       "{'bpic15-0.3-4': ['activity',\n",
       "  'action_code',\n",
       "  'activityNameEN',\n",
       "  'activityNameNL',\n",
       "  'monitoringResource',\n",
       "  'org:resource',\n",
       "  'question'],\n",
       " 'large-0.3-4': ['activity', 'user', 'day', 'country', 'company'],\n",
       " 'small-0.3-4': ['activity', 'user', 'day', 'country', 'company'],\n",
       " 'bpic13-0.3-3': ['activity',\n",
       "  'org:group',\n",
       "  'org:resource',\n",
       "  'org:role',\n",
       "  'organization country',\n",
       "  'product',\n",
       "  'resource country',\n",
       "  'impact'],\n",
       " 'medium-0.3-3': ['activity', 'user', 'day', 'country'],\n",
       " 'medium-0.3-1': ['activity', 'user'],\n",
       " 'bpic17-0.3-1': ['activity', 'EventOrigin', 'org:resource'],\n",
       " 'wide-0.3-3': ['activity', 'user', 'day', 'country'],\n",
       " 'large-0.3-2': ['activity', 'user', 'day'],\n",
       " 'bpic17-0.3-2': ['activity', 'EventOrigin', 'org:resource'],\n",
       " 'bpic13-0.3-1': ['activity',\n",
       "  'org:group',\n",
       "  'org:resource',\n",
       "  'org:role',\n",
       "  'organization country',\n",
       "  'product',\n",
       "  'resource country',\n",
       "  'impact'],\n",
       " 'small-0.3-3': ['activity', 'user', 'day', 'country'],\n",
       " 'bpic12-0.3-1': ['activity'],\n",
       " 'huge-0.3-2': ['activity', 'user', 'day'],\n",
       " 'p2p-0.3-3': ['activity', 'user', 'day', 'country'],\n",
       " 'wide-0.3-4': ['activity', 'user', 'day', 'country', 'company'],\n",
       " 'huge-0.3-1': ['activity', 'user'],\n",
       " 'gigantic-0.3-1': ['activity', 'user'],\n",
       " 'p2p-0.3-1': ['activity', 'user'],\n",
       " 'wide-0.3-2': ['activity', 'user', 'day'],\n",
       " 'bpic15-0.3-2': ['activity',\n",
       "  'action_code',\n",
       "  'activityNameEN',\n",
       "  'activityNameNL',\n",
       "  'monitoringResource',\n",
       "  'org:resource',\n",
       "  'question'],\n",
       " 'large-0.3-1': ['activity', 'user'],\n",
       " 'bpic15-0.3-1': ['activity',\n",
       "  'action_code',\n",
       "  'activityNameEN',\n",
       "  'activityNameNL',\n",
       "  'monitoringResource',\n",
       "  'org:resource',\n",
       "  'question'],\n",
       " 'gigantic-0.3-3': ['activity', 'user', 'day', 'country'],\n",
       " 'medium-0.3-4': ['activity', 'user', 'day', 'country', 'company'],\n",
       " 'medium-0.3-2': ['activity', 'user', 'day'],\n",
       " 'huge-0.3-4': ['activity', 'user', 'day', 'country', 'company'],\n",
       " 'gigantic-0.3-4': ['activity', 'user', 'day', 'country', 'company'],\n",
       " 'bpic13-0.3-2': ['activity',\n",
       "  'org:group',\n",
       "  'org:resource',\n",
       "  'org:role',\n",
       "  'organization country',\n",
       "  'product',\n",
       "  'resource country',\n",
       "  'impact'],\n",
       " 'p2p-0.3-2': ['activity', 'user', 'day'],\n",
       " 'bpic15-0.3-3': ['activity',\n",
       "  'action_code',\n",
       "  'activityNameEN',\n",
       "  'activityNameNL',\n",
       "  'monitoringResource',\n",
       "  'org:resource',\n",
       "  'question'],\n",
       " 'bpic15-0.3-5': ['activity',\n",
       "  'action_code',\n",
       "  'activityNameEN',\n",
       "  'activityNameNL',\n",
       "  'monitoringResource',\n",
       "  'org:resource',\n",
       "  'question'],\n",
       " 'large-0.3-3': ['activity', 'user', 'day', 'country'],\n",
       " 'small-0.3-2': ['activity', 'user', 'day'],\n",
       " 'huge-0.3-3': ['activity', 'user', 'day', 'country'],\n",
       " 'wide-0.3-1': ['activity', 'user'],\n",
       " 'paper-0.3-1': ['activity', 'user'],\n",
       " 'small-0.3-1': ['activity', 'user'],\n",
       " 'gigantic-0.3-2': ['activity', 'user', 'day'],\n",
       " 'p2p-0.3-4': ['activity', 'user', 'day', 'country', 'company']}"
      ]
     },
     "execution_count": null,
     "metadata": {},
     "output_type": "execute_result"
    }
   ],
   "source": [
    "attr_dict"
   ]
  },
  {
   "cell_type": "code",
   "execution_count": null,
   "metadata": {},
   "outputs": [],
   "source": [
    "#| export\n",
    "def get_attr(attr_dict,log_name):\n",
    "    if log_name in attr_dict: \n",
    "        return attr_dict[log_name]\n",
    "    else: return ['activity']"
   ]
  },
  {
   "cell_type": "code",
   "execution_count": null,
   "metadata": {},
   "outputs": [
    {
     "data": {
      "text/plain": [
       "['activity', 'user', 'day', 'country', 'company']"
      ]
     },
     "execution_count": null,
     "metadata": {},
     "output_type": "execute_result"
    }
   ],
   "source": [
    "log_name= 'small-0.3-4'\n",
    "fn=f'../data/logs/csv/dapnn_ds/binet_logs/{log_name}.csv.gz'\n",
    "cols= get_attr(attr_dict,log_name)\n",
    "cols"
   ]
  },
  {
   "cell_type": "code",
   "execution_count": null,
   "metadata": {},
   "outputs": [
    {
     "data": {
      "text/html": [
       "<div>\n",
       "<style scoped>\n",
       "    .dataframe tbody tr th:only-of-type {\n",
       "        vertical-align: middle;\n",
       "    }\n",
       "\n",
       "    .dataframe tbody tr th {\n",
       "        vertical-align: top;\n",
       "    }\n",
       "\n",
       "    .dataframe thead th {\n",
       "        text-align: right;\n",
       "    }\n",
       "</style>\n",
       "<table border=\"1\" class=\"dataframe\">\n",
       "  <thead>\n",
       "    <tr style=\"text-align: right;\">\n",
       "      <th></th>\n",
       "      <th>activity</th>\n",
       "      <th>timestamp</th>\n",
       "      <th>timestamp_end</th>\n",
       "      <th>anomaly</th>\n",
       "      <th>company</th>\n",
       "      <th>country</th>\n",
       "      <th>day</th>\n",
       "      <th>user</th>\n",
       "      <th>event_id</th>\n",
       "    </tr>\n",
       "    <tr>\n",
       "      <th>trace_id</th>\n",
       "      <th></th>\n",
       "      <th></th>\n",
       "      <th></th>\n",
       "      <th></th>\n",
       "      <th></th>\n",
       "      <th></th>\n",
       "      <th></th>\n",
       "      <th></th>\n",
       "      <th></th>\n",
       "    </tr>\n",
       "  </thead>\n",
       "  <tbody>\n",
       "    <tr>\n",
       "      <th>1</th>\n",
       "      <td>###start###</td>\n",
       "      <td>NaN</td>\n",
       "      <td>NaN</td>\n",
       "      <td>normal</td>\n",
       "      <td>###start###</td>\n",
       "      <td>###start###</td>\n",
       "      <td>###start###</td>\n",
       "      <td>###start###</td>\n",
       "      <td>0</td>\n",
       "    </tr>\n",
       "    <tr>\n",
       "      <th>1</th>\n",
       "      <td>Activity A</td>\n",
       "      <td>NaN</td>\n",
       "      <td>NaN</td>\n",
       "      <td>normal</td>\n",
       "      <td>Toughzap</td>\n",
       "      <td>Peru</td>\n",
       "      <td>Monday</td>\n",
       "      <td>Sonia</td>\n",
       "      <td>1</td>\n",
       "    </tr>\n",
       "    <tr>\n",
       "      <th>1</th>\n",
       "      <td>Activity B</td>\n",
       "      <td>NaN</td>\n",
       "      <td>NaN</td>\n",
       "      <td>normal</td>\n",
       "      <td>Rundofase</td>\n",
       "      <td>Israel</td>\n",
       "      <td>Monday</td>\n",
       "      <td>Jack</td>\n",
       "      <td>2</td>\n",
       "    </tr>\n",
       "    <tr>\n",
       "      <th>1</th>\n",
       "      <td>Activity C</td>\n",
       "      <td>NaN</td>\n",
       "      <td>NaN</td>\n",
       "      <td>normal</td>\n",
       "      <td>Stanredtax</td>\n",
       "      <td>Saint Lucia</td>\n",
       "      <td>Monday</td>\n",
       "      <td>Earl</td>\n",
       "      <td>3</td>\n",
       "    </tr>\n",
       "    <tr>\n",
       "      <th>1</th>\n",
       "      <td>Activity D</td>\n",
       "      <td>NaN</td>\n",
       "      <td>NaN</td>\n",
       "      <td>normal</td>\n",
       "      <td>Condax</td>\n",
       "      <td>Ghana</td>\n",
       "      <td>Monday</td>\n",
       "      <td>Maryellen</td>\n",
       "      <td>4</td>\n",
       "    </tr>\n",
       "  </tbody>\n",
       "</table>\n",
       "</div>"
      ],
      "text/plain": [
       "             activity timestamp timestamp_end anomaly      company  \\\n",
       "trace_id                                                             \n",
       "1         ###start###       NaN           NaN  normal  ###start###   \n",
       "1          Activity A       NaN           NaN  normal     Toughzap   \n",
       "1          Activity B       NaN           NaN  normal    Rundofase   \n",
       "1          Activity C       NaN           NaN  normal   Stanredtax   \n",
       "1          Activity D       NaN           NaN  normal       Condax   \n",
       "\n",
       "              country          day         user event_id  \n",
       "trace_id                                                  \n",
       "1         ###start###  ###start###  ###start###        0  \n",
       "1                Peru       Monday        Sonia        1  \n",
       "1              Israel       Monday         Jack        2  \n",
       "1         Saint Lucia       Monday         Earl        3  \n",
       "1               Ghana       Monday    Maryellen        4  "
      ]
     },
     "execution_count": null,
     "metadata": {},
     "output_type": "execute_result"
    }
   ],
   "source": [
    "log = import_log(fn,cols)\n",
    "log.head()"
   ]
  },
  {
   "cell_type": "code",
   "execution_count": null,
   "metadata": {},
   "outputs": [],
   "source": [
    "o,dls,categorify = training_dl(log,cols)"
   ]
  },
  {
   "cell_type": "code",
   "execution_count": null,
   "metadata": {},
   "outputs": [
    {
     "data": {
      "text/plain": [
       "(torch.Size([32, 5, 5]),\n",
       " tensor([10,  3,  9, 12, 18, 18,  9,  3,  3,  1,  1,  7, 11,  1,  1,  1,  5,  6,\n",
       "          1,  5,  8,  4, 17, 18,  3,  3,  4,  4, 13,  6, 21, 12],\n",
       "        device='cuda:0'))"
      ]
     },
     "execution_count": null,
     "metadata": {},
     "output_type": "execute_result"
    }
   ],
   "source": [
    "xcat,ycat = dls.one_batch()\n",
    "xcat.shape,ycat[0]"
   ]
  },
  {
   "cell_type": "code",
   "execution_count": null,
   "metadata": {},
   "outputs": [],
   "source": [
    "emb_szs = get_emb_sz(o)"
   ]
  },
  {
   "cell_type": "code",
   "execution_count": null,
   "metadata": {},
   "outputs": [],
   "source": [
    "fn=f'../data/logs/csv/dapnn_ds/binet_logs/{log_name}.csv.gz'"
   ]
  },
  {
   "cell_type": "code",
   "execution_count": null,
   "metadata": {},
   "outputs": [],
   "source": [
    "#| export\n",
    "class MultivariateModel(torch.nn.Module) :\n",
    "    def __init__(self, emb_szs, lstm_neurons=25,lstm_layers=2) :\n",
    "        super().__init__()\n",
    "        \n",
    "        self.embeds = nn.ModuleList([Embedding(ni, nf) for ni,nf in emb_szs])\n",
    "        self.lstms = nn.ModuleList([nn.LSTM(nf, lstm_neurons, batch_first=True, num_layers=lstm_layers) \n",
    "                                    for ni,nf in emb_szs])\n",
    "        self.linears = nn.ModuleList([nn.Linear(lstm_neurons, ni) for ni,nf in emb_szs])\n",
    "\n",
    "        \n",
    "\n",
    "    def forward(self, xcat):\n",
    "        res=[]\n",
    "        for i in range(xcat.shape[1]):\n",
    "            x =xcat[:,i]\n",
    "            x =self.embeds[i](x)\n",
    "            x,_ =self.lstms[i](x)\n",
    "            x = x[:,-1]\n",
    "            x= self.linears[i](x)\n",
    "            res.append(x)\n",
    "        return tuple(res)\n",
    "    \n"
   ]
  },
  {
   "cell_type": "code",
   "execution_count": null,
   "metadata": {},
   "outputs": [
    {
     "data": {
      "text/plain": [
       "[torch.Size([32, 42]),\n",
       " torch.Size([32, 138]),\n",
       " torch.Size([32, 14]),\n",
       " torch.Size([32, 295]),\n",
       " torch.Size([32, 142])]"
      ]
     },
     "execution_count": null,
     "metadata": {},
     "output_type": "execute_result"
    }
   ],
   "source": [
    "m=MultivariateModel(emb_szs)\n",
    "pred = m(xcat.cpu())\n",
    "[i.shape for i in pred]"
   ]
  },
  {
   "cell_type": "code",
   "execution_count": null,
   "metadata": {},
   "outputs": [],
   "source": [
    "#| export\n",
    "def _accuracy_idx(a,b,i): return accuracy(listify(a)[i],listify(b)[i])\n",
    "\n",
    "def get_metrics(o):\n",
    "    \n",
    "    number_cats=len(o.ycat_names)\n",
    "    \n",
    "    accuracies=[]\n",
    "    for i in range(number_cats):\n",
    "        accuracy_func=partial(_accuracy_idx,i=i)\n",
    "        accuracy_func.__name__= f\"acc_{o.ycat_names[i]}\"\n",
    "        accuracy_func=AvgMetric(accuracy_func)\n",
    "        accuracies.append(accuracy_func)\n",
    "    mae_days=None\n",
    "    return L(accuracies)+mae_days\n",
    "\n",
    "def multi_loss_sum(o,p,y):\n",
    "    '''Multi Loss function that sums up multiple loss functions. The selection of the loss function is based on the PPObj o'''\n",
    "    p,y=listify(p),listify(y)\n",
    "    len_cat,len_cont=len(o.ycat_names),len(o.ycont_names)\n",
    "    cross_entropies=[F.cross_entropy(p[i],y[i]) for i in range(len_cat)]\n",
    "    return torch.sum(torch.stack(list(L(cross_entropies))))\n",
    "\n",
    "def my_loss(p,y): return F.cross_entropy(p[0],y[0])\n",
    "def my_metric(p,y): return accuracy(p[0],y[0])"
   ]
  },
  {
   "cell_type": "code",
   "execution_count": null,
   "metadata": {},
   "outputs": [],
   "source": [
    "loss=partial(multi_loss_sum,o)"
   ]
  },
  {
   "cell_type": "code",
   "execution_count": null,
   "metadata": {},
   "outputs": [
    {
     "data": {
      "text/plain": [
       "tensor(21.9264, grad_fn=<SumBackward0>)"
      ]
     },
     "execution_count": null,
     "metadata": {},
     "output_type": "execute_result"
    }
   ],
   "source": [
    "loss(pred,[i.cpu() for i in ycat])"
   ]
  },
  {
   "cell_type": "code",
   "execution_count": null,
   "metadata": {},
   "outputs": [
    {
     "data": {
      "text/html": [
       "\n",
       "<style>\n",
       "    /* Turns off some styling */\n",
       "    progress {\n",
       "        /* gets rid of default border in Firefox and Opera. */\n",
       "        border: none;\n",
       "        /* Needs to be in here for Safari polyfill so background images work as expected. */\n",
       "        background-size: auto;\n",
       "    }\n",
       "    progress:not([value]), progress:not([value])::-webkit-progress-bar {\n",
       "        background: repeating-linear-gradient(45deg, #7e7e7e, #7e7e7e 10px, #5c5c5c 10px, #5c5c5c 20px);\n",
       "    }\n",
       "    .progress-bar-interrupted, .progress-bar-interrupted::-webkit-progress-bar {\n",
       "        background: #F44336;\n",
       "    }\n",
       "</style>\n"
      ],
      "text/plain": [
       "<IPython.core.display.HTML object>"
      ]
     },
     "metadata": {},
     "output_type": "display_data"
    },
    {
     "data": {
      "text/html": [],
      "text/plain": [
       "<IPython.core.display.HTML object>"
      ]
     },
     "metadata": {},
     "output_type": "display_data"
    },
    {
     "data": {
      "text/html": [
       "\n",
       "<style>\n",
       "    /* Turns off some styling */\n",
       "    progress {\n",
       "        /* gets rid of default border in Firefox and Opera. */\n",
       "        border: none;\n",
       "        /* Needs to be in here for Safari polyfill so background images work as expected. */\n",
       "        background-size: auto;\n",
       "    }\n",
       "    progress:not([value]), progress:not([value])::-webkit-progress-bar {\n",
       "        background: repeating-linear-gradient(45deg, #7e7e7e, #7e7e7e 10px, #5c5c5c 10px, #5c5c5c 20px);\n",
       "    }\n",
       "    .progress-bar-interrupted, .progress-bar-interrupted::-webkit-progress-bar {\n",
       "        background: #F44336;\n",
       "    }\n",
       "</style>\n"
      ],
      "text/plain": [
       "<IPython.core.display.HTML object>"
      ]
     },
     "metadata": {},
     "output_type": "display_data"
    },
    {
     "data": {
      "text/html": [],
      "text/plain": [
       "<IPython.core.display.HTML object>"
      ]
     },
     "metadata": {},
     "output_type": "display_data"
    },
    {
     "data": {
      "text/html": [
       "\n",
       "<style>\n",
       "    /* Turns off some styling */\n",
       "    progress {\n",
       "        /* gets rid of default border in Firefox and Opera. */\n",
       "        border: none;\n",
       "        /* Needs to be in here for Safari polyfill so background images work as expected. */\n",
       "        background-size: auto;\n",
       "    }\n",
       "    progress:not([value]), progress:not([value])::-webkit-progress-bar {\n",
       "        background: repeating-linear-gradient(45deg, #7e7e7e, #7e7e7e 10px, #5c5c5c 10px, #5c5c5c 20px);\n",
       "    }\n",
       "    .progress-bar-interrupted, .progress-bar-interrupted::-webkit-progress-bar {\n",
       "        background: #F44336;\n",
       "    }\n",
       "</style>\n"
      ],
      "text/plain": [
       "<IPython.core.display.HTML object>"
      ]
     },
     "metadata": {},
     "output_type": "display_data"
    },
    {
     "data": {
      "text/html": [],
      "text/plain": [
       "<IPython.core.display.HTML object>"
      ]
     },
     "metadata": {},
     "output_type": "display_data"
    },
    {
     "data": {
      "text/html": [
       "\n",
       "<style>\n",
       "    /* Turns off some styling */\n",
       "    progress {\n",
       "        /* gets rid of default border in Firefox and Opera. */\n",
       "        border: none;\n",
       "        /* Needs to be in here for Safari polyfill so background images work as expected. */\n",
       "        background-size: auto;\n",
       "    }\n",
       "    progress:not([value]), progress:not([value])::-webkit-progress-bar {\n",
       "        background: repeating-linear-gradient(45deg, #7e7e7e, #7e7e7e 10px, #5c5c5c 10px, #5c5c5c 20px);\n",
       "    }\n",
       "    .progress-bar-interrupted, .progress-bar-interrupted::-webkit-progress-bar {\n",
       "        background: #F44336;\n",
       "    }\n",
       "</style>\n"
      ],
      "text/plain": [
       "<IPython.core.display.HTML object>"
      ]
     },
     "metadata": {},
     "output_type": "display_data"
    },
    {
     "data": {
      "text/html": [],
      "text/plain": [
       "<IPython.core.display.HTML object>"
      ]
     },
     "metadata": {},
     "output_type": "display_data"
    },
    {
     "data": {
      "text/html": [
       "\n",
       "<style>\n",
       "    /* Turns off some styling */\n",
       "    progress {\n",
       "        /* gets rid of default border in Firefox and Opera. */\n",
       "        border: none;\n",
       "        /* Needs to be in here for Safari polyfill so background images work as expected. */\n",
       "        background-size: auto;\n",
       "    }\n",
       "    progress:not([value]), progress:not([value])::-webkit-progress-bar {\n",
       "        background: repeating-linear-gradient(45deg, #7e7e7e, #7e7e7e 10px, #5c5c5c 10px, #5c5c5c 20px);\n",
       "    }\n",
       "    .progress-bar-interrupted, .progress-bar-interrupted::-webkit-progress-bar {\n",
       "        background: #F44336;\n",
       "    }\n",
       "</style>\n"
      ],
      "text/plain": [
       "<IPython.core.display.HTML object>"
      ]
     },
     "metadata": {},
     "output_type": "display_data"
    },
    {
     "data": {
      "text/html": [],
      "text/plain": [
       "<IPython.core.display.HTML object>"
      ]
     },
     "metadata": {},
     "output_type": "display_data"
    },
    {
     "data": {
      "text/html": [
       "\n",
       "<style>\n",
       "    /* Turns off some styling */\n",
       "    progress {\n",
       "        /* gets rid of default border in Firefox and Opera. */\n",
       "        border: none;\n",
       "        /* Needs to be in here for Safari polyfill so background images work as expected. */\n",
       "        background-size: auto;\n",
       "    }\n",
       "    progress:not([value]), progress:not([value])::-webkit-progress-bar {\n",
       "        background: repeating-linear-gradient(45deg, #7e7e7e, #7e7e7e 10px, #5c5c5c 10px, #5c5c5c 20px);\n",
       "    }\n",
       "    .progress-bar-interrupted, .progress-bar-interrupted::-webkit-progress-bar {\n",
       "        background: #F44336;\n",
       "    }\n",
       "</style>\n"
      ],
      "text/plain": [
       "<IPython.core.display.HTML object>"
      ]
     },
     "metadata": {},
     "output_type": "display_data"
    },
    {
     "data": {
      "text/html": [
       "<table border=\"1\" class=\"dataframe\">\n",
       "  <thead>\n",
       "    <tr style=\"text-align: left;\">\n",
       "      <th>epoch</th>\n",
       "      <th>train_loss</th>\n",
       "      <th>valid_loss</th>\n",
       "      <th>_accuracy_idx</th>\n",
       "      <th>_accuracy_idx</th>\n",
       "      <th>_accuracy_idx</th>\n",
       "      <th>_accuracy_idx</th>\n",
       "      <th>_accuracy_idx</th>\n",
       "      <th>time</th>\n",
       "    </tr>\n",
       "  </thead>\n",
       "  <tbody>\n",
       "    <tr>\n",
       "      <td>0</td>\n",
       "      <td>7.136340</td>\n",
       "      <td>7.045480</td>\n",
       "      <td>0.826224</td>\n",
       "      <td>0.544595</td>\n",
       "      <td>0.477460</td>\n",
       "      <td>0.553563</td>\n",
       "      <td>0.659477</td>\n",
       "      <td>00:32</td>\n",
       "    </tr>\n",
       "  </tbody>\n",
       "</table>"
      ],
      "text/plain": [
       "<IPython.core.display.HTML object>"
      ]
     },
     "metadata": {},
     "output_type": "display_data"
    },
    {
     "name": "stdout",
     "output_type": "stream",
     "text": [
      "Better model found at epoch 0 with valid_loss value: 7.045479774475098.\n"
     ]
    },
    {
     "data": {
      "text/html": [
       "\n",
       "<style>\n",
       "    /* Turns off some styling */\n",
       "    progress {\n",
       "        /* gets rid of default border in Firefox and Opera. */\n",
       "        border: none;\n",
       "        /* Needs to be in here for Safari polyfill so background images work as expected. */\n",
       "        background-size: auto;\n",
       "    }\n",
       "    progress:not([value]), progress:not([value])::-webkit-progress-bar {\n",
       "        background: repeating-linear-gradient(45deg, #7e7e7e, #7e7e7e 10px, #5c5c5c 10px, #5c5c5c 20px);\n",
       "    }\n",
       "    .progress-bar-interrupted, .progress-bar-interrupted::-webkit-progress-bar {\n",
       "        background: #F44336;\n",
       "    }\n",
       "</style>\n"
      ],
      "text/plain": [
       "<IPython.core.display.HTML object>"
      ]
     },
     "metadata": {},
     "output_type": "display_data"
    },
    {
     "data": {
      "text/html": [],
      "text/plain": [
       "<IPython.core.display.HTML object>"
      ]
     },
     "metadata": {},
     "output_type": "display_data"
    },
    {
     "name": "stdout",
     "output_type": "stream",
     "text": [
      "Better model found at epoch 0 with valid_loss value: 0.8068852424621582.\n"
     ]
    }
   ],
   "source": [
    "epoch=1\n",
    "train_val=train_validate(dls,m,loss=loss,metrics=get_metrics(o),epoch=epoch,show_plot=False)\n"
   ]
  },
  {
   "cell_type": "markdown",
   "metadata": {},
   "source": [
    "### Load Test Log for Inference"
   ]
  },
  {
   "cell_type": "code",
   "execution_count": null,
   "metadata": {},
   "outputs": [],
   "source": [
    "log = import_log(fn)\n",
    "log.head()\n",
    "o = process_test(log,categorify,cols)"
   ]
  },
  {
   "cell_type": "code",
   "execution_count": null,
   "metadata": {},
   "outputs": [],
   "source": [
    "#| export\n",
    "def predict_next_step(o,m,ws=5):\n",
    "    wds,idx=partial(windows_fast,ws=ws)(o.xs, o.event_ids)\n",
    "    res= []\n",
    "    with torch.no_grad():\n",
    "        for b in DataLoader(wds,bs=8*1024,shuffle=False):\n",
    "            h= m(b.long().cuda())\n",
    "            h= tuple([i.cpu() for i in h])\n",
    "            res.append(h)\n",
    "\n",
    "    res =tuple([torch.cat([k[i] for k in res] ) for i in range(len(o.cat_names))])\n",
    "    return res,idx"
   ]
  },
  {
   "cell_type": "code",
   "execution_count": null,
   "metadata": {},
   "outputs": [
    {
     "name": "stdout",
     "output_type": "stream",
     "text": [
      "CPU times: user 1.18 s, sys: 183 ms, total: 1.36 s\n",
      "Wall time: 315 ms\n"
     ]
    }
   ],
   "source": [
    "%%time\n",
    "res,idx=predict_next_step(o,m)\n"
   ]
  },
  {
   "cell_type": "code",
   "execution_count": null,
   "metadata": {},
   "outputs": [],
   "source": [
    "#| export\n",
    "def multivariate_anomaly_score(res,o,idx,cols):\n",
    "    score_df=pd.DataFrame()\n",
    "\n",
    "    for cidx,_ in enumerate(cols):\n",
    "        sm = nn.Softmax(dim=1)\n",
    "        p = sm(res[cidx].cpu())\n",
    "        pred = p.max(1)[0]\n",
    "        y = o.items[cols[cidx]].iloc[idx].values\n",
    "\n",
    "        truth=p[list(range(len(y))),y]\n",
    "        score = ((pred - truth) / pred).tolist()\n",
    "        score_df[cols[cidx]] = score\n",
    "    score_df['trace_id']=o.items.index.to_series().iloc[idx].values\n",
    "    return score_df"
   ]
  },
  {
   "cell_type": "code",
   "execution_count": null,
   "metadata": {},
   "outputs": [
    {
     "data": {
      "text/html": [
       "<div>\n",
       "<style scoped>\n",
       "    .dataframe tbody tr th:only-of-type {\n",
       "        vertical-align: middle;\n",
       "    }\n",
       "\n",
       "    .dataframe tbody tr th {\n",
       "        vertical-align: top;\n",
       "    }\n",
       "\n",
       "    .dataframe thead th {\n",
       "        text-align: right;\n",
       "    }\n",
       "</style>\n",
       "<table border=\"1\" class=\"dataframe\">\n",
       "  <thead>\n",
       "    <tr style=\"text-align: right;\">\n",
       "      <th></th>\n",
       "      <th>activity</th>\n",
       "      <th>user</th>\n",
       "      <th>day</th>\n",
       "      <th>country</th>\n",
       "      <th>company</th>\n",
       "      <th>trace_id</th>\n",
       "    </tr>\n",
       "  </thead>\n",
       "  <tbody>\n",
       "    <tr>\n",
       "      <th>0</th>\n",
       "      <td>0.000000</td>\n",
       "      <td>0.439668</td>\n",
       "      <td>0.000000</td>\n",
       "      <td>0.531000</td>\n",
       "      <td>0.315139</td>\n",
       "      <td>1</td>\n",
       "    </tr>\n",
       "    <tr>\n",
       "      <th>1</th>\n",
       "      <td>0.000000</td>\n",
       "      <td>0.662233</td>\n",
       "      <td>0.000000</td>\n",
       "      <td>0.000000</td>\n",
       "      <td>0.000000</td>\n",
       "      <td>1</td>\n",
       "    </tr>\n",
       "    <tr>\n",
       "      <th>2</th>\n",
       "      <td>0.000000</td>\n",
       "      <td>0.380046</td>\n",
       "      <td>0.000000</td>\n",
       "      <td>0.532485</td>\n",
       "      <td>0.000000</td>\n",
       "      <td>1</td>\n",
       "    </tr>\n",
       "    <tr>\n",
       "      <th>3</th>\n",
       "      <td>0.000000</td>\n",
       "      <td>0.000000</td>\n",
       "      <td>0.000000</td>\n",
       "      <td>0.000000</td>\n",
       "      <td>0.000000</td>\n",
       "      <td>1</td>\n",
       "    </tr>\n",
       "    <tr>\n",
       "      <th>4</th>\n",
       "      <td>0.000000</td>\n",
       "      <td>0.904819</td>\n",
       "      <td>0.362798</td>\n",
       "      <td>0.681615</td>\n",
       "      <td>0.828734</td>\n",
       "      <td>1</td>\n",
       "    </tr>\n",
       "    <tr>\n",
       "      <th>...</th>\n",
       "      <td>...</td>\n",
       "      <td>...</td>\n",
       "      <td>...</td>\n",
       "      <td>...</td>\n",
       "      <td>...</td>\n",
       "      <td>...</td>\n",
       "    </tr>\n",
       "    <tr>\n",
       "      <th>51690</th>\n",
       "      <td>0.000000</td>\n",
       "      <td>0.720104</td>\n",
       "      <td>0.537395</td>\n",
       "      <td>0.000000</td>\n",
       "      <td>0.000000</td>\n",
       "      <td>5000</td>\n",
       "    </tr>\n",
       "    <tr>\n",
       "      <th>51691</th>\n",
       "      <td>0.000000</td>\n",
       "      <td>0.000000</td>\n",
       "      <td>0.298893</td>\n",
       "      <td>0.097286</td>\n",
       "      <td>0.000000</td>\n",
       "      <td>5000</td>\n",
       "    </tr>\n",
       "    <tr>\n",
       "      <th>51692</th>\n",
       "      <td>0.989942</td>\n",
       "      <td>0.946027</td>\n",
       "      <td>0.391907</td>\n",
       "      <td>0.980420</td>\n",
       "      <td>0.982797</td>\n",
       "      <td>5000</td>\n",
       "    </tr>\n",
       "    <tr>\n",
       "      <th>51693</th>\n",
       "      <td>0.000000</td>\n",
       "      <td>0.345933</td>\n",
       "      <td>0.000000</td>\n",
       "      <td>0.867805</td>\n",
       "      <td>0.635300</td>\n",
       "      <td>5000</td>\n",
       "    </tr>\n",
       "    <tr>\n",
       "      <th>51694</th>\n",
       "      <td>0.000000</td>\n",
       "      <td>0.909175</td>\n",
       "      <td>0.089738</td>\n",
       "      <td>0.985204</td>\n",
       "      <td>0.862531</td>\n",
       "      <td>5000</td>\n",
       "    </tr>\n",
       "  </tbody>\n",
       "</table>\n",
       "<p>51695 rows × 6 columns</p>\n",
       "</div>"
      ],
      "text/plain": [
       "       activity      user       day   country   company  trace_id\n",
       "0      0.000000  0.439668  0.000000  0.531000  0.315139         1\n",
       "1      0.000000  0.662233  0.000000  0.000000  0.000000         1\n",
       "2      0.000000  0.380046  0.000000  0.532485  0.000000         1\n",
       "3      0.000000  0.000000  0.000000  0.000000  0.000000         1\n",
       "4      0.000000  0.904819  0.362798  0.681615  0.828734         1\n",
       "...         ...       ...       ...       ...       ...       ...\n",
       "51690  0.000000  0.720104  0.537395  0.000000  0.000000      5000\n",
       "51691  0.000000  0.000000  0.298893  0.097286  0.000000      5000\n",
       "51692  0.989942  0.946027  0.391907  0.980420  0.982797      5000\n",
       "51693  0.000000  0.345933  0.000000  0.867805  0.635300      5000\n",
       "51694  0.000000  0.909175  0.089738  0.985204  0.862531      5000\n",
       "\n",
       "[51695 rows x 6 columns]"
      ]
     },
     "execution_count": null,
     "metadata": {},
     "output_type": "execute_result"
    }
   ],
   "source": [
    "score_df=multivariate_anomaly_score(res,o,idx,cols)\n",
    "score_df"
   ]
  },
  {
   "cell_type": "markdown",
   "metadata": {},
   "source": [
    "### Anomaly Classification"
   ]
  },
  {
   "cell_type": "markdown",
   "metadata": {},
   "source": [
    "We can set a fixed threshold or define a custom threshold function. Currently only fixed threshold is used."
   ]
  },
  {
   "cell_type": "code",
   "execution_count": null,
   "metadata": {},
   "outputs": [],
   "source": [
    "#| export\n",
    "def get_thresholds(col,act_threshold=0.964,attr_threshold=0.9971):\n",
    "    \"\"\"\n",
    "    Defines a custom threshold function\n",
    "    \"\"\"\n",
    "    if col =='activity':\n",
    "        return act_threshold\n",
    "    else: \n",
    "        return attr_threshold"
   ]
  },
  {
   "cell_type": "code",
   "execution_count": null,
   "metadata": {},
   "outputs": [],
   "source": [
    "#| export\n",
    "def multivariate_anomalies(score_df,cols,idx,o,anomaly_col='normal',fixed_threshold=None,get_thresholds=get_thresholds):\n",
    "    if fixed_threshold is None:\n",
    "        comp_thresholds=get_thresholds\n",
    "    else:\n",
    "        comp_thresholds = lambda _: fixed_threshold\n",
    "    a=[score_df.loc[score_df[c] >= comp_thresholds(c)]['trace_id'] for c in cols]\n",
    "    anomalies=list(set().union(*a))\n",
    "    h=o.items.iloc[idx][anomaly_col]\n",
    "    if anomaly_col=='anomaly':\n",
    "        score_df['is_anomaly']=(h!='normal').tolist()\n",
    "    else:\n",
    "        score_df['is_anomaly']=(h==False).tolist()\n",
    "    score_df['anomaly']=h.tolist()\n",
    "    y_true = (score_df.loc[score_df.trace_id.drop_duplicates().index].is_anomaly).tolist()\n",
    "    cases = score_df.loc[score_df.trace_id.drop_duplicates().index].trace_id.tolist()\n",
    "    y_pred=[case in anomalies for case in cases]\n",
    "    return y_true,y_pred"
   ]
  },
  {
   "cell_type": "code",
   "execution_count": null,
   "metadata": {},
   "outputs": [],
   "source": [
    "y_true,y_pred=multivariate_anomalies(score_df,cols,idx,o,fixed_threshold=None,anomaly_col='anomaly')"
   ]
  },
  {
   "cell_type": "code",
   "execution_count": null,
   "metadata": {},
   "outputs": [
    {
     "data": {
      "text/plain": [
       "0.851963746223565"
      ]
     },
     "execution_count": null,
     "metadata": {},
     "output_type": "execute_result"
    }
   ],
   "source": [
    "f1_score(y_true, y_pred)"
   ]
  },
  {
   "cell_type": "code",
   "execution_count": null,
   "metadata": {},
   "outputs": [
    {
     "data": {
      "text/plain": [
       "normal          371\n",
       "SkipSequence     51\n",
       "Attribute        32\n",
       "Early            18\n",
       "Late             18\n",
       "Name: anomaly, dtype: int64"
      ]
     },
     "execution_count": null,
     "metadata": {},
     "output_type": "execute_result"
    }
   ],
   "source": [
    "k=o.items.groupby(o.items.index)['anomaly'].last().iloc[np.where(~np.equal(y_pred, y_true))[0]\n",
    "]\n",
    "k.value_counts()"
   ]
  },
  {
   "cell_type": "code",
   "execution_count": null,
   "metadata": {},
   "outputs": [
    {
     "data": {
      "text/plain": [
       "normal          3471\n",
       "Rework           274\n",
       "SkipSequence     268\n",
       "Late             261\n",
       "Early            253\n",
       "Attribute        239\n",
       "Insert           234\n",
       "Name: anomaly, dtype: int64"
      ]
     },
     "execution_count": null,
     "metadata": {},
     "output_type": "execute_result"
    }
   ],
   "source": [
    "o.items.groupby(o.items.index)['anomaly'].last().value_counts()"
   ]
  },
  {
   "cell_type": "markdown",
   "metadata": {},
   "source": [
    "## Plot Anomaly Scores for a Trace"
   ]
  },
  {
   "cell_type": "code",
   "execution_count": null,
   "metadata": {},
   "outputs": [
    {
     "data": {
      "text/html": [
       "<div>\n",
       "<style scoped>\n",
       "    .dataframe tbody tr th:only-of-type {\n",
       "        vertical-align: middle;\n",
       "    }\n",
       "\n",
       "    .dataframe tbody tr th {\n",
       "        vertical-align: top;\n",
       "    }\n",
       "\n",
       "    .dataframe thead th {\n",
       "        text-align: right;\n",
       "    }\n",
       "</style>\n",
       "<table border=\"1\" class=\"dataframe\">\n",
       "  <thead>\n",
       "    <tr style=\"text-align: right;\">\n",
       "      <th></th>\n",
       "      <th>trace_id</th>\n",
       "      <th>anomaly</th>\n",
       "      <th>event_id</th>\n",
       "      <th>Attribute</th>\n",
       "      <th>Anomaly Score</th>\n",
       "    </tr>\n",
       "  </thead>\n",
       "  <tbody>\n",
       "    <tr>\n",
       "      <th>0</th>\n",
       "      <td>1</td>\n",
       "      <td>normal</td>\n",
       "      <td>0</td>\n",
       "      <td>activity</td>\n",
       "      <td>0.000000</td>\n",
       "    </tr>\n",
       "    <tr>\n",
       "      <th>1</th>\n",
       "      <td>1</td>\n",
       "      <td>normal</td>\n",
       "      <td>1</td>\n",
       "      <td>activity</td>\n",
       "      <td>0.000000</td>\n",
       "    </tr>\n",
       "    <tr>\n",
       "      <th>2</th>\n",
       "      <td>1</td>\n",
       "      <td>normal</td>\n",
       "      <td>2</td>\n",
       "      <td>activity</td>\n",
       "      <td>0.000000</td>\n",
       "    </tr>\n",
       "    <tr>\n",
       "      <th>3</th>\n",
       "      <td>1</td>\n",
       "      <td>normal</td>\n",
       "      <td>3</td>\n",
       "      <td>activity</td>\n",
       "      <td>0.000000</td>\n",
       "    </tr>\n",
       "    <tr>\n",
       "      <th>4</th>\n",
       "      <td>1</td>\n",
       "      <td>normal</td>\n",
       "      <td>4</td>\n",
       "      <td>activity</td>\n",
       "      <td>0.000000</td>\n",
       "    </tr>\n",
       "    <tr>\n",
       "      <th>...</th>\n",
       "      <td>...</td>\n",
       "      <td>...</td>\n",
       "      <td>...</td>\n",
       "      <td>...</td>\n",
       "      <td>...</td>\n",
       "    </tr>\n",
       "    <tr>\n",
       "      <th>258470</th>\n",
       "      <td>5000</td>\n",
       "      <td>SkipSequence</td>\n",
       "      <td>40</td>\n",
       "      <td>company</td>\n",
       "      <td>0.000000</td>\n",
       "    </tr>\n",
       "    <tr>\n",
       "      <th>258471</th>\n",
       "      <td>5000</td>\n",
       "      <td>SkipSequence</td>\n",
       "      <td>41</td>\n",
       "      <td>company</td>\n",
       "      <td>0.000000</td>\n",
       "    </tr>\n",
       "    <tr>\n",
       "      <th>258472</th>\n",
       "      <td>5000</td>\n",
       "      <td>SkipSequence</td>\n",
       "      <td>42</td>\n",
       "      <td>company</td>\n",
       "      <td>0.982797</td>\n",
       "    </tr>\n",
       "    <tr>\n",
       "      <th>258473</th>\n",
       "      <td>5000</td>\n",
       "      <td>SkipSequence</td>\n",
       "      <td>43</td>\n",
       "      <td>company</td>\n",
       "      <td>0.635300</td>\n",
       "    </tr>\n",
       "    <tr>\n",
       "      <th>258474</th>\n",
       "      <td>5000</td>\n",
       "      <td>SkipSequence</td>\n",
       "      <td>44</td>\n",
       "      <td>company</td>\n",
       "      <td>0.862531</td>\n",
       "    </tr>\n",
       "  </tbody>\n",
       "</table>\n",
       "<p>258475 rows × 5 columns</p>\n",
       "</div>"
      ],
      "text/plain": [
       "        trace_id       anomaly  event_id Attribute  Anomaly Score\n",
       "0              1        normal         0  activity       0.000000\n",
       "1              1        normal         1  activity       0.000000\n",
       "2              1        normal         2  activity       0.000000\n",
       "3              1        normal         3  activity       0.000000\n",
       "4              1        normal         4  activity       0.000000\n",
       "...          ...           ...       ...       ...            ...\n",
       "258470      5000  SkipSequence        40   company       0.000000\n",
       "258471      5000  SkipSequence        41   company       0.000000\n",
       "258472      5000  SkipSequence        42   company       0.982797\n",
       "258473      5000  SkipSequence        43   company       0.635300\n",
       "258474      5000  SkipSequence        44   company       0.862531\n",
       "\n",
       "[258475 rows x 5 columns]"
      ]
     },
     "execution_count": null,
     "metadata": {},
     "output_type": "execute_result"
    }
   ],
   "source": [
    "score_df['event_id']=score_df.groupby('trace_id').cumcount()\n",
    "\n",
    "plot_data=score_df.melt(value_vars=['activity','user','day','country','company'],value_name='Anomaly Score',var_name='Attribute',id_vars=['trace_id','anomaly','event_id'])\n",
    "plot_data['event_id']=plot_data.groupby('trace_id').cumcount()\n",
    "plot_data"
   ]
  },
  {
   "cell_type": "code",
   "execution_count": null,
   "metadata": {},
   "outputs": [],
   "source": [
    "import seaborn as sns"
   ]
  },
  {
   "cell_type": "code",
   "execution_count": null,
   "metadata": {},
   "outputs": [
    {
     "name": "stdout",
     "output_type": "stream",
     "text": [
      "45\n",
      "SkipSequence\n",
      "6\n"
     ]
    },
    {
     "data": {
      "image/png": "[encoded data removed]",
      "text/plain": [
       "<Figure size 914.125x400 with 1 Axes>"
      ]
     },
     "metadata": {},
     "output_type": "display_data"
    }
   ],
   "source": [
    "data=plot_data[plot_data['trace_id']==6].copy()\n",
    "data['xticks']= [f'e{y+1}' for x in range(5) for y in range(len(data)//5)]\n",
    "print(len(data))\n",
    "print(data['anomaly'].iloc[0])\n",
    "print(data['trace_id'].iloc[0])\n",
    "times = data.event_id.unique()\n",
    "g = sns.FacetGrid(data, col=\"trace_id\", hue=\"Attribute\",\n",
    "                  palette=\"Set3\", height=4, aspect=2)\n",
    "g.map(sns.barplot, 'event_id', 'Anomaly Score', order=times)\n",
    "g.add_legend()\n",
    "ax1 = g.axes[0][0]\n",
    "g.set_titles(col_template=\"\", row_template=\"\")\n",
    "g.set_axis_labels('')\n",
    "\n",
    "ax1.axhline(0.98, ls='--')\n",
    "for ax in g.axes.flat:\n",
    "  \n",
    "    ax.set_xticklabels([f'e{y+1}' for x in range(5) for y in range(len(data)//5)], rotation=40,fontsize=9) # set new labels\n",
    "plt.show()"
   ]
  },
  {
   "cell_type": "code",
   "execution_count": null,
   "metadata": {},
   "outputs": [],
   "source": [
    "import matplotlib.pyplot as plt\n",
    "plt.style.use('ggplot')\n"
   ]
  },
  {
   "cell_type": "code",
   "execution_count": null,
   "metadata": {},
   "outputs": [],
   "source": [
    "def plot_anomaly_scores(trace_id):\n",
    "    data=plot_data[plot_data['trace_id']==trace_id]\n",
    "    print(len(data))\n",
    "    print(data['anomaly'].iloc[0])\n",
    "    print(data['trace_id'].iloc[0])\n",
    "    times = data.event_id.unique()\n",
    "    g = sns.FacetGrid(data, col=\"trace_id\", hue=\"Attribute\",\n",
    "                      palette=\"Set3\", height=4, aspect=2)\n",
    "    g.map(sns.barplot, 'event_id', 'Anomaly Score', order=times)\n",
    "    g.add_legend()\n",
    "    ax1 = g.axes[0][0]\n",
    "    g.set_titles(col_template=\"\", row_template=\"\")\n",
    "    g.set_axis_labels('')\n",
    "    ax1.axhline(0.98, ls='--')\n",
    "    for ax in g.axes.flat:\n",
    "\n",
    "        ax.set_xticklabels([f'e{y+1}' for x in range(5) for y in range(len(data)//5)], rotation=50,fontsize=11) # set new labels\n",
    "    plt.show()"
   ]
  },
  {
   "cell_type": "code",
   "execution_count": null,
   "metadata": {},
   "outputs": [
    {
     "name": "stdout",
     "output_type": "stream",
     "text": [
      "40\n",
      "normal\n",
      "1\n"
     ]
    },
    {
     "data": {
      "image/png": "[encoded data removed]",
      "text/plain": [
       "<Figure size 914.125x400 with 1 Axes>"
      ]
     },
     "metadata": {},
     "output_type": "display_data"
    }
   ],
   "source": [
    "plot_anomaly_scores(1)"
   ]
  },
  {
   "cell_type": "code",
   "execution_count": null,
   "metadata": {},
   "outputs": [
    {
     "name": "stdout",
     "output_type": "stream",
     "text": [
      "45\n",
      "SkipSequence\n",
      "6\n"
     ]
    },
    {
     "data": {
      "image/png": "[encoded data removed]",
      "text/plain": [
       "<Figure size 914.125x400 with 1 Axes>"
      ]
     },
     "metadata": {},
     "output_type": "display_data"
    }
   ],
   "source": [
    "plot_anomaly_scores(6)"
   ]
  },
  {
   "cell_type": "markdown",
   "metadata": {},
   "source": [
    "## Export -"
   ]
  },
  {
   "cell_type": "code",
   "execution_count": null,
   "metadata": {},
   "outputs": [],
   "source": [
    "#| hide\n",
    "import nbdev; nbdev.nbdev_export()"
   ]
  },
  {
   "cell_type": "code",
   "execution_count": null,
   "metadata": {},
   "outputs": [],
   "source": []
  }
 ],
 "metadata": {
  "kernelspec": {
   "display_name": "pympp",
   "language": "python",
   "name": "pympp"
  },
  "language_info": {
   "codemirror_mode": {
    "name": "ipython",
    "version": 3
   },
   "file_extension": ".py",
   "mimetype": "text/x-python",
   "name": "python",
   "nbconvert_exporter": "python",
   "pygments_lexer": "ipython3",
   "version": "3.8.16"
  }
 },
 "nbformat": 4,
 "nbformat_minor": 4
}
