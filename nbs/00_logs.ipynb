{
 "cells": [
  {
   "cell_type": "markdown",
   "metadata": {},
   "source": [
    "# Logs\n",
    "\n",
    ">  Convert xes event logs to csv format"
   ]
  },
  {
   "cell_type": "code",
   "execution_count": 1,
   "metadata": {},
   "outputs": [],
   "source": [
    "#| default_exp logs"
   ]
  },
  {
   "cell_type": "code",
   "execution_count": 3,
   "metadata": {},
   "outputs": [],
   "source": [
    "%load_ext autoreload\n",
    "%autoreload 2\n",
    "%matplotlib inline"
   ]
  },
  {
   "cell_type": "markdown",
   "metadata": {},
   "source": [
    "## Convert to pandas dataframe "
   ]
  },
  {
   "cell_type": "code",
   "execution_count": 4,
   "metadata": {},
   "outputs": [],
   "source": [
    "#| export\n",
    "from pm4py.objects.log.importer.xes import importer as xes_importer\n",
    "from pm4py.objects.conversion.log import converter as log_converter\n",
    "import gzip\n",
    "import json"
   ]
  },
  {
   "cell_type": "code",
   "execution_count": null,
   "metadata": {},
   "outputs": [],
   "source": [
    "#| export\n",
    "def convert_to_df(path):\n",
    "    log = xes_importer.apply(bpi_2012)\n",
    "    df = log_converter.apply(log, variant=log_converter.Variants.TO_DATA_FRAME)\n",
    "    return df"
   ]
  },
  {
   "cell_type": "code",
   "execution_count": 7,
   "metadata": {},
   "outputs": [
    {
     "data": {
      "application/vnd.jupyter.widget-view+json": {
       "model_id": "25c860fd35e94e2fae64631862ecd7df",
       "version_major": 2,
       "version_minor": 0
      },
      "text/plain": [
       "parsing log, completed traces ::   0%|          | 0/13087 [00:00<?, ?it/s]"
      ]
     },
     "metadata": {},
     "output_type": "display_data"
    },
    {
     "data": {
      "text/html": [
       "<div>\n",
       "<style scoped>\n",
       "    .dataframe tbody tr th:only-of-type {\n",
       "        vertical-align: middle;\n",
       "    }\n",
       "\n",
       "    .dataframe tbody tr th {\n",
       "        vertical-align: top;\n",
       "    }\n",
       "\n",
       "    .dataframe thead th {\n",
       "        text-align: right;\n",
       "    }\n",
       "</style>\n",
       "<table border=\"1\" class=\"dataframe\">\n",
       "  <thead>\n",
       "    <tr style=\"text-align: right;\">\n",
       "      <th></th>\n",
       "      <th>org:resource</th>\n",
       "      <th>lifecycle:transition</th>\n",
       "      <th>concept:name</th>\n",
       "      <th>time:timestamp</th>\n",
       "      <th>case:REG_DATE</th>\n",
       "      <th>case:concept:name</th>\n",
       "      <th>case:AMOUNT_REQ</th>\n",
       "    </tr>\n",
       "  </thead>\n",
       "  <tbody>\n",
       "    <tr>\n",
       "      <th>0</th>\n",
       "      <td>112</td>\n",
       "      <td>COMPLETE</td>\n",
       "      <td>A_SUBMITTED</td>\n",
       "      <td>2011-09-30 22:38:44.546000+00:00</td>\n",
       "      <td>2011-09-30 22:38:44.546000+00:00</td>\n",
       "      <td>173688</td>\n",
       "      <td>20000</td>\n",
       "    </tr>\n",
       "    <tr>\n",
       "      <th>1</th>\n",
       "      <td>112</td>\n",
       "      <td>COMPLETE</td>\n",
       "      <td>A_PARTLYSUBMITTED</td>\n",
       "      <td>2011-09-30 22:38:44.880000+00:00</td>\n",
       "      <td>2011-09-30 22:38:44.546000+00:00</td>\n",
       "      <td>173688</td>\n",
       "      <td>20000</td>\n",
       "    </tr>\n",
       "    <tr>\n",
       "      <th>2</th>\n",
       "      <td>112</td>\n",
       "      <td>COMPLETE</td>\n",
       "      <td>A_PREACCEPTED</td>\n",
       "      <td>2011-09-30 22:39:37.906000+00:00</td>\n",
       "      <td>2011-09-30 22:38:44.546000+00:00</td>\n",
       "      <td>173688</td>\n",
       "      <td>20000</td>\n",
       "    </tr>\n",
       "    <tr>\n",
       "      <th>3</th>\n",
       "      <td>112</td>\n",
       "      <td>SCHEDULE</td>\n",
       "      <td>W_Completeren aanvraag</td>\n",
       "      <td>2011-09-30 22:39:38.875000+00:00</td>\n",
       "      <td>2011-09-30 22:38:44.546000+00:00</td>\n",
       "      <td>173688</td>\n",
       "      <td>20000</td>\n",
       "    </tr>\n",
       "    <tr>\n",
       "      <th>4</th>\n",
       "      <td>NaN</td>\n",
       "      <td>START</td>\n",
       "      <td>W_Completeren aanvraag</td>\n",
       "      <td>2011-10-01 09:36:46.437000+00:00</td>\n",
       "      <td>2011-09-30 22:38:44.546000+00:00</td>\n",
       "      <td>173688</td>\n",
       "      <td>20000</td>\n",
       "    </tr>\n",
       "    <tr>\n",
       "      <th>...</th>\n",
       "      <td>...</td>\n",
       "      <td>...</td>\n",
       "      <td>...</td>\n",
       "      <td>...</td>\n",
       "      <td>...</td>\n",
       "      <td>...</td>\n",
       "      <td>...</td>\n",
       "    </tr>\n",
       "    <tr>\n",
       "      <th>262195</th>\n",
       "      <td>112</td>\n",
       "      <td>COMPLETE</td>\n",
       "      <td>A_PARTLYSUBMITTED</td>\n",
       "      <td>2012-02-29 22:51:17.423000+00:00</td>\n",
       "      <td>2012-02-29 22:51:16.799000+00:00</td>\n",
       "      <td>214376</td>\n",
       "      <td>15000</td>\n",
       "    </tr>\n",
       "    <tr>\n",
       "      <th>262196</th>\n",
       "      <td>112</td>\n",
       "      <td>SCHEDULE</td>\n",
       "      <td>W_Afhandelen leads</td>\n",
       "      <td>2012-02-29 22:52:01.287000+00:00</td>\n",
       "      <td>2012-02-29 22:51:16.799000+00:00</td>\n",
       "      <td>214376</td>\n",
       "      <td>15000</td>\n",
       "    </tr>\n",
       "    <tr>\n",
       "      <th>262197</th>\n",
       "      <td>11169</td>\n",
       "      <td>START</td>\n",
       "      <td>W_Afhandelen leads</td>\n",
       "      <td>2012-03-01 08:26:46.736000+00:00</td>\n",
       "      <td>2012-02-29 22:51:16.799000+00:00</td>\n",
       "      <td>214376</td>\n",
       "      <td>15000</td>\n",
       "    </tr>\n",
       "    <tr>\n",
       "      <th>262198</th>\n",
       "      <td>11169</td>\n",
       "      <td>COMPLETE</td>\n",
       "      <td>A_DECLINED</td>\n",
       "      <td>2012-03-01 08:27:37.118000+00:00</td>\n",
       "      <td>2012-02-29 22:51:16.799000+00:00</td>\n",
       "      <td>214376</td>\n",
       "      <td>15000</td>\n",
       "    </tr>\n",
       "    <tr>\n",
       "      <th>262199</th>\n",
       "      <td>11169</td>\n",
       "      <td>COMPLETE</td>\n",
       "      <td>W_Afhandelen leads</td>\n",
       "      <td>2012-03-01 08:27:41.325000+00:00</td>\n",
       "      <td>2012-02-29 22:51:16.799000+00:00</td>\n",
       "      <td>214376</td>\n",
       "      <td>15000</td>\n",
       "    </tr>\n",
       "  </tbody>\n",
       "</table>\n",
       "<p>262200 rows × 7 columns</p>\n",
       "</div>"
      ],
      "text/plain": [
       "       org:resource lifecycle:transition            concept:name  \\\n",
       "0               112             COMPLETE             A_SUBMITTED   \n",
       "1               112             COMPLETE       A_PARTLYSUBMITTED   \n",
       "2               112             COMPLETE           A_PREACCEPTED   \n",
       "3               112             SCHEDULE  W_Completeren aanvraag   \n",
       "4               NaN                START  W_Completeren aanvraag   \n",
       "...             ...                  ...                     ...   \n",
       "262195          112             COMPLETE       A_PARTLYSUBMITTED   \n",
       "262196          112             SCHEDULE      W_Afhandelen leads   \n",
       "262197        11169                START      W_Afhandelen leads   \n",
       "262198        11169             COMPLETE              A_DECLINED   \n",
       "262199        11169             COMPLETE      W_Afhandelen leads   \n",
       "\n",
       "                         time:timestamp                    case:REG_DATE  \\\n",
       "0      2011-09-30 22:38:44.546000+00:00 2011-09-30 22:38:44.546000+00:00   \n",
       "1      2011-09-30 22:38:44.880000+00:00 2011-09-30 22:38:44.546000+00:00   \n",
       "2      2011-09-30 22:39:37.906000+00:00 2011-09-30 22:38:44.546000+00:00   \n",
       "3      2011-09-30 22:39:38.875000+00:00 2011-09-30 22:38:44.546000+00:00   \n",
       "4      2011-10-01 09:36:46.437000+00:00 2011-09-30 22:38:44.546000+00:00   \n",
       "...                                 ...                              ...   \n",
       "262195 2012-02-29 22:51:17.423000+00:00 2012-02-29 22:51:16.799000+00:00   \n",
       "262196 2012-02-29 22:52:01.287000+00:00 2012-02-29 22:51:16.799000+00:00   \n",
       "262197 2012-03-01 08:26:46.736000+00:00 2012-02-29 22:51:16.799000+00:00   \n",
       "262198 2012-03-01 08:27:37.118000+00:00 2012-02-29 22:51:16.799000+00:00   \n",
       "262199 2012-03-01 08:27:41.325000+00:00 2012-02-29 22:51:16.799000+00:00   \n",
       "\n",
       "       case:concept:name case:AMOUNT_REQ  \n",
       "0                 173688           20000  \n",
       "1                 173688           20000  \n",
       "2                 173688           20000  \n",
       "3                 173688           20000  \n",
       "4                 173688           20000  \n",
       "...                  ...             ...  \n",
       "262195            214376           15000  \n",
       "262196            214376           15000  \n",
       "262197            214376           15000  \n",
       "262198            214376           15000  \n",
       "262199            214376           15000  \n",
       "\n",
       "[262200 rows x 7 columns]"
      ]
     },
     "execution_count": 7,
     "metadata": {},
     "output_type": "execute_result"
    }
   ],
   "source": [
    "bpi_2012 = \"../data/logs/xes/BPI_Challenge_2012.xes.gz\"\n",
    "convert_to_df(bpi_2012)"
   ]
  },
  {
   "cell_type": "markdown",
   "metadata": {},
   "source": [
    "## Sample Conversion for PDC and BINET Logs"
   ]
  },
  {
   "cell_type": "code",
   "execution_count": null,
   "metadata": {},
   "outputs": [],
   "source": [
    "#|eval: false\n",
    "import warnings\n",
    "warnings.filterwarnings('ignore')"
   ]
  },
  {
   "cell_type": "markdown",
   "metadata": {},
   "source": [
    "### PDC 2020"
   ]
  },
  {
   "cell_type": "markdown",
   "metadata": {},
   "source": [
    "#### Training Logs"
   ]
  },
  {
   "cell_type": "code",
   "execution_count": null,
   "metadata": {},
   "outputs": [],
   "source": [
    "#|eval: false\n",
    "for fn in progress_bar(glob.glob('data/orig/unzipped/PDC2020_training/*')):\n",
    "    new_fn=fn.split('.')[0]+'.csv.gz'\n",
    "    new_fn='data/csv/'+\"/\".join(new_fn.split('/')[3:])\n",
    "    log = xes_importer.apply(fn)\n",
    "    df = log_converter.apply(log, variant=log_converter.Variants.TO_DATA_FRAME)\n",
    "    df.to_csv(new_fn,index=False,compression='gzip')\n"
   ]
  },
  {
   "cell_type": "markdown",
   "metadata": {},
   "source": [
    "#### Groundtruth Logs"
   ]
  },
  {
   "cell_type": "code",
   "execution_count": null,
   "metadata": {},
   "outputs": [],
   "source": [
    "#|eval: false\n",
    "for fn in progress_bar(glob.glob('data/orig/unzipped/PDC2020_ground_truth/*')):\n",
    "    new_fn=fn.split('.')[0]+'.csv.gz'\n",
    "    new_fn='data/csv/'+\"/\".join(new_fn.split('/')[3:])\n",
    "    log = xes_importer.apply(fn)\n",
    "    df = log_converter.apply(log, variant=log_converter.Variants.TO_DATA_FRAME)\n",
    "    df.to_csv(new_fn,index=False,compression='gzip')\n"
   ]
  },
  {
   "cell_type": "markdown",
   "metadata": {},
   "source": [
    "### PDC 2021"
   ]
  },
  {
   "cell_type": "markdown",
   "metadata": {},
   "source": [
    "#### Training Logs"
   ]
  },
  {
   "cell_type": "code",
   "execution_count": null,
   "metadata": {},
   "outputs": [],
   "source": [
    "#|eval: false\n",
    "for fn in progress_bar(glob.glob('data/orig/unzipped/PDC2021_training/*')):\n",
    "    new_fn=fn.split('.')[0]+'.csv.gz'\n",
    "    new_fn='data/csv/'+\"/\".join(new_fn.split('/')[3:])\n",
    "    log = xes_importer.apply(fn)\n",
    "    df = log_converter.apply(log, variant=log_converter.Variants.TO_DATA_FRAME)\n",
    "    df.to_csv(new_fn,index=False,compression='gzip')"
   ]
  },
  {
   "cell_type": "markdown",
   "metadata": {},
   "source": [
    "#### Groundtruth Logs\n"
   ]
  },
  {
   "cell_type": "code",
   "execution_count": null,
   "metadata": {},
   "outputs": [],
   "source": [
    "#|eval: false\n",
    "for fn in progress_bar(glob.glob('data/orig/unzipped/PDC2021_ground_truth/*')):\n",
    "    new_fn=fn.split('.')[0]+'.csv.gz'\n",
    "    new_fn='data/csv/'+\"/\".join(new_fn.split('/')[3:])\n",
    "    log = xes_importer.apply(fn)\n",
    "    df = log_converter.apply(log, variant=log_converter.Variants.TO_DATA_FRAME)\n",
    "    df.to_csv(new_fn,index=False,compression='gzip')\n"
   ]
  },
  {
   "cell_type": "markdown",
   "metadata": {},
   "source": [
    "### BINET Logs"
   ]
  },
  {
   "cell_type": "code",
   "execution_count": null,
   "metadata": {},
   "outputs": [],
   "source": [
    "#|eval: false\n",
    "def load_binet_data (path):\n",
    "    with gzip.open(path, \"r\") as f:\n",
    "        data = f.read()\n",
    "        j = json.loads (data.decode('utf-8'))\n",
    "        \n",
    "    event_df = pd.DataFrame({'attributes': [], 'name': [], 'timestamp': [],'timestamp_end': [], 'event_id': [], 'trace_id': []})\n",
    "    truth_df = pd.DataFrame({'case': [], 'anomalies': []})\n",
    "    res=[]\n",
    "    res=pd.DataFrame()\n",
    "    for case in (j['cases']):\n",
    "        trace = pd.DataFrame.from_dict(case['events'])\n",
    "        trace['anomaly']= case['attributes']['label'] if type(case['attributes']['label'])==str else case['attributes']['label']['anomaly']\n",
    "        trace['trace_id']=case['id']\n",
    "        res=res.append(trace)\n",
    "    res=pd.concat([res.drop(['attributes'], axis=1), res['attributes'].apply(pd.Series)], axis=1)\n",
    "    return res\n",
    "     "
   ]
  },
  {
   "cell_type": "code",
   "execution_count": null,
   "metadata": {},
   "outputs": [],
   "source": [
    "#|eval: false\n",
    "for fn in progress_bar((list(glob.glob('data/orig/unzipped/binet_logs/*-0.3-*')))):\n",
    "    new_fn=fn[:-7]+'csv.gz'\n",
    "    new_fn='data/csv/'+\"/\".join(new_fn.split('/')[3:])\n",
    "    df=load_binet_data(fn)\n",
    "    df.to_csv(new_fn,index=False,compression='gzip')"
   ]
  },
  {
   "cell_type": "markdown",
   "metadata": {},
   "source": [
    "## Export -"
   ]
  },
  {
   "cell_type": "code",
   "execution_count": 9,
   "metadata": {},
   "outputs": [],
   "source": [
    "#| hide\n",
    "import nbdev; nbdev.nbdev_export()"
   ]
  }
 ],
 "metadata": {
  "kernelspec": {
   "display_name": "pympp",
   "language": "python",
   "name": "pympp"
  },
  "language_info": {
   "codemirror_mode": {
    "name": "ipython",
    "version": 3
   },
   "file_extension": ".py",
   "mimetype": "text/x-python",
   "name": "python",
   "nbconvert_exporter": "python",
   "pygments_lexer": "ipython3",
   "version": "3.8.16"
  }
 },
 "nbformat": 4,
 "nbformat_minor": 4
}
