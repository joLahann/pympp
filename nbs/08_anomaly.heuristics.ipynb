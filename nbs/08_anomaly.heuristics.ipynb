{
 "cells": [
  {
   "cell_type": "markdown",
   "id": "a08d8cd3",
   "metadata": {},
   "source": [
    "Anomaly Detection Heuristics \n",
    "===\n",
    "\n",
    "> This notebook reimplements and prints different heuristics from Nolle 2019 including\n",
    "- elbow_up\n",
    "- elbow_down\n",
    "- lowest_plateau_left\n",
    "- lowest_plateau_right\n",
    "- lowest_plateau_centered\n",
    "- best\n",
    "\n",
    "> Additional we show the how prediction score normalization affects the anomaly ratio curve and leads to a performance boost im terms of F1-Score on the anomaly detection task"
   ]
  },
  {
   "cell_type": "code",
   "execution_count": null,
   "id": "e7a88a45",
   "metadata": {},
   "outputs": [],
   "source": [
    "#| default_exp anomaly.heuristics"
   ]
  },
  {
   "cell_type": "code",
   "execution_count": null,
   "id": "aa51b0c1",
   "metadata": {},
   "outputs": [],
   "source": [
    "%load_ext autoreload\n",
    "%autoreload 2\n",
    "%matplotlib inline"
   ]
  },
  {
   "cell_type": "code",
   "execution_count": null,
   "id": "36dc620a",
   "metadata": {},
   "outputs": [],
   "source": [
    "#| hide\n",
    "from nbdev.showdoc import *"
   ]
  },
  {
   "cell_type": "code",
   "execution_count": null,
   "id": "14dde885",
   "metadata": {},
   "outputs": [],
   "source": [
    "#| export\n",
    "from fastai.basics import *\n",
    "from pympp.process import *\n",
    "from pympp.anomaly.detect import *\n",
    "from sklearn.metrics import confusion_matrix\n",
    "from fastai.tabular.model import get_emb_sz\n",
    "from sklearn.metrics import f1_score,accuracy_score,precision_score,recall_score\n",
    "import seaborn as sns"
   ]
  },
  {
   "cell_type": "markdown",
   "id": "b0f88de8",
   "metadata": {},
   "source": [
    "## Get Anomaly Scores:"
   ]
  },
  {
   "cell_type": "code",
   "execution_count": null,
   "id": "a3d3b2fd",
   "metadata": {},
   "outputs": [],
   "source": [
    "#| export\n",
    "\n",
    "# Custom F_Score of PDC Challenge:\n",
    "def f_score(y_true, y_pred,sample_weight=None):\n",
    "    C = confusion_matrix(y_true, y_pred, sample_weight=sample_weight)\n",
    "    with np.errstate(divide=\"ignore\", invalid=\"ignore\"):\n",
    "        per_class = np.diag(C) / C.sum(axis=1)\n",
    "    if np.any(np.isnan(per_class)):\n",
    "        warnings.warn(\"y_pred contains classes not in y_true\")\n",
    "        per_class = per_class[~np.isnan(per_class)]\n",
    "    P = per_class[0]\n",
    "    N = per_class[1]\n",
    "    score = 2*(P*N)/(P+N)\n",
    "    return score"
   ]
  },
  {
   "cell_type": "code",
   "execution_count": null,
   "id": "570bdd8b",
   "metadata": {},
   "outputs": [],
   "source": [
    "#| export\n",
    "def load_pred_model(learner_path,train_log_path,log_name,cols=['activity']):\n",
    "    p = f'{learner_path}/{log_name}_vocab.p'\n",
    "    with open(p, 'rb') as fp:\n",
    "        categorify = pickle.load(fp)\n",
    "    log = import_log(train_log_path)\n",
    "    o = process_test(log,categorify,cols)\n",
    "    dls=o.get_dls()\n",
    "    loss=partial(multi_loss_sum,o)\n",
    "    emb_szs = get_emb_sz(o)\n",
    "    m=MultivariateModel(emb_szs)\n",
    "    learn=Learner(dls, m, path=learner_path, model_dir='.', loss_func=loss, metrics=get_metrics(o))\n",
    "    learn.load(log_name,with_opt=False)\n",
    "    m=learn.model.cuda()\n",
    "    return m, categorify"
   ]
  },
  {
   "cell_type": "code",
   "execution_count": null,
   "id": "5f63c887",
   "metadata": {},
   "outputs": [],
   "source": [
    "#| export\n",
    "def multivariate_anomaly_score(res,o,idx,cols,normalization = True):\n",
    "    score_df=pd.DataFrame()\n",
    "\n",
    "    for cidx,_ in enumerate(cols):\n",
    "        sm = nn.Softmax(dim=1)\n",
    "        p = sm(res[cidx].cpu())\n",
    "        pred = p.max(1)[0]\n",
    "        y = o.items[cols[cidx]].iloc[idx].values\n",
    "\n",
    "        truth=p[list(range(len(y))),y]\n",
    "        if normalization:\n",
    "            score = ((pred - truth) / pred).tolist()\n",
    "        else:\n",
    "            score = (pred - truth).tolist()\n",
    "        score_df[cols[cidx]] = score\n",
    "    score_df['trace_id']=o.items.index.to_series().iloc[idx].values\n",
    "    return score_df"
   ]
  },
  {
   "cell_type": "code",
   "execution_count": null,
   "id": "dd3e5d52",
   "metadata": {},
   "outputs": [],
   "source": [
    "#| export\n",
    "def get_score_df(log_name,prediction_normalization = True):\n",
    "    learner_path=f'../models/pdc2020'\n",
    "    training_log_path = f'../data/logs/csv/dapnn_ds/PDC2020_training/pdc_2020_{log_name}.csv.gz'\n",
    "    test_log_path = f'../data/logs/csv/dapnn_ds/PDC2020_ground_truth/pdc_2020_{log_name}.csv.gz' \n",
    "    \n",
    "    cols = ['activity']\n",
    "    m, categorify= load_pred_model(learner_path,training_log_path,f\"pdc_2020_{log_name}\")\n",
    "    if type(test_log_path)==str:\n",
    "        log = import_log_pdc(test_log_path)\n",
    "    else:\n",
    "        log = test_log_path   \n",
    "    o = process_test(log,categorify,cols)\n",
    "    nsp,idx=predict_next_step(o,m)\n",
    "    score_df=multivariate_anomaly_score(nsp,o,idx,cols,prediction_normalization)\n",
    "    y_true =o.items['normal'].astype(float).groupby(o.items.index).mean().to_numpy() ==False\n",
    "    return score_df, y_true"
   ]
  },
  {
   "cell_type": "code",
   "execution_count": null,
   "id": "12084a93",
   "metadata": {},
   "outputs": [
    {
     "data": {
      "text/html": [
       "<div>\n",
       "<style scoped>\n",
       "    .dataframe tbody tr th:only-of-type {\n",
       "        vertical-align: middle;\n",
       "    }\n",
       "\n",
       "    .dataframe tbody tr th {\n",
       "        vertical-align: top;\n",
       "    }\n",
       "\n",
       "    .dataframe thead th {\n",
       "        text-align: right;\n",
       "    }\n",
       "</style>\n",
       "<table border=\"1\" class=\"dataframe\">\n",
       "  <thead>\n",
       "    <tr style=\"text-align: right;\">\n",
       "      <th></th>\n",
       "      <th>activity</th>\n",
       "      <th>trace_id</th>\n",
       "    </tr>\n",
       "  </thead>\n",
       "  <tbody>\n",
       "    <tr>\n",
       "      <th>0</th>\n",
       "      <td>0.000000</td>\n",
       "      <td>trace 1</td>\n",
       "    </tr>\n",
       "    <tr>\n",
       "      <th>1</th>\n",
       "      <td>0.000000</td>\n",
       "      <td>trace 1</td>\n",
       "    </tr>\n",
       "    <tr>\n",
       "      <th>2</th>\n",
       "      <td>0.052144</td>\n",
       "      <td>trace 1</td>\n",
       "    </tr>\n",
       "    <tr>\n",
       "      <th>3</th>\n",
       "      <td>0.000000</td>\n",
       "      <td>trace 1</td>\n",
       "    </tr>\n",
       "    <tr>\n",
       "      <th>4</th>\n",
       "      <td>0.121892</td>\n",
       "      <td>trace 1</td>\n",
       "    </tr>\n",
       "    <tr>\n",
       "      <th>...</th>\n",
       "      <td>...</td>\n",
       "      <td>...</td>\n",
       "    </tr>\n",
       "    <tr>\n",
       "      <th>12992</th>\n",
       "      <td>0.000000</td>\n",
       "      <td>trace 1000</td>\n",
       "    </tr>\n",
       "    <tr>\n",
       "      <th>12993</th>\n",
       "      <td>0.000000</td>\n",
       "      <td>trace 1000</td>\n",
       "    </tr>\n",
       "    <tr>\n",
       "      <th>12994</th>\n",
       "      <td>0.000000</td>\n",
       "      <td>trace 1000</td>\n",
       "    </tr>\n",
       "    <tr>\n",
       "      <th>12995</th>\n",
       "      <td>0.000000</td>\n",
       "      <td>trace 1000</td>\n",
       "    </tr>\n",
       "    <tr>\n",
       "      <th>12996</th>\n",
       "      <td>0.000000</td>\n",
       "      <td>trace 1000</td>\n",
       "    </tr>\n",
       "  </tbody>\n",
       "</table>\n",
       "<p>12997 rows × 2 columns</p>\n",
       "</div>"
      ],
      "text/plain": [
       "       activity    trace_id\n",
       "0      0.000000     trace 1\n",
       "1      0.000000     trace 1\n",
       "2      0.052144     trace 1\n",
       "3      0.000000     trace 1\n",
       "4      0.121892     trace 1\n",
       "...         ...         ...\n",
       "12992  0.000000  trace 1000\n",
       "12993  0.000000  trace 1000\n",
       "12994  0.000000  trace 1000\n",
       "12995  0.000000  trace 1000\n",
       "12996  0.000000  trace 1000\n",
       "\n",
       "[12997 rows x 2 columns]"
      ]
     },
     "execution_count": null,
     "metadata": {},
     "output_type": "execute_result"
    }
   ],
   "source": [
    "log_name = '1001001'\n",
    "score_df, y_true = get_score_df(log_name)\n",
    "score_df"
   ]
  },
  {
   "cell_type": "markdown",
   "id": "428a49e2",
   "metadata": {},
   "source": [
    "## Get Predictions per threshold"
   ]
  },
  {
   "cell_type": "code",
   "execution_count": null,
   "id": "b755d9a7",
   "metadata": {},
   "outputs": [],
   "source": [
    "#| export\n",
    "def get_preds(score_df,threshold):\n",
    "    h =score_df.groupby('trace_id')['activity'].max()\n",
    "    h=(h-h.min())/(h.max()-h.min())\n",
    "\n",
    "    y_pred = (h.to_numpy()>threshold).astype(int)\n",
    "    return y_pred\n"
   ]
  },
  {
   "cell_type": "code",
   "execution_count": null,
   "id": "9cbfd0fb",
   "metadata": {},
   "outputs": [
    {
     "data": {
      "text/plain": [
       "array([0.   , 0.001, 0.002, 0.003, 0.004, 0.005, 0.006, 0.007, 0.008,\n",
       "       0.009, 0.01 , 0.011, 0.012, 0.013, 0.014, 0.015, 0.016, 0.017,\n",
       "       0.018, 0.019])"
      ]
     },
     "execution_count": null,
     "metadata": {},
     "output_type": "execute_result"
    }
   ],
   "source": [
    "ths = np.array((range(1000)))*0.001 +0.0\n",
    "ths[:20]"
   ]
  },
  {
   "cell_type": "code",
   "execution_count": null,
   "id": "193bc122",
   "metadata": {},
   "outputs": [],
   "source": [
    "#| export\n",
    "def get_th_df(ths,score_df,y_true,log_name,f_score=f_score):\n",
    "    res = []\n",
    "    for t in progress_bar(ths):\n",
    "        y_pred=get_preds(score_df,t)\n",
    "        anomaly_ratio = sum(x == 1 for x in y_pred) / len(y_pred)\n",
    "        f1 = f_score(y_true, y_pred)\n",
    "        precision = precision_score(y_true,y_pred)\n",
    "        recall = recall_score(y_true,y_pred)\n",
    "        res.append([log_name, f1, precision, recall, anomaly_ratio])\n",
    "\n",
    "    columns='Log Name', 'F1 Score','Precision','Recall', 'Anomaly Ratio'\n",
    "    th_df = pd.DataFrame(res,columns=columns,index=ths)\n",
    "    return th_df\n"
   ]
  },
  {
   "cell_type": "code",
   "execution_count": null,
   "id": "eb0b5cdf",
   "metadata": {},
   "outputs": [
    {
     "data": {
      "text/html": [
       "\n",
       "<style>\n",
       "    /* Turns off some styling */\n",
       "    progress {\n",
       "        /* gets rid of default border in Firefox and Opera. */\n",
       "        border: none;\n",
       "        /* Needs to be in here for Safari polyfill so background images work as expected. */\n",
       "        background-size: auto;\n",
       "    }\n",
       "    progress:not([value]), progress:not([value])::-webkit-progress-bar {\n",
       "        background: repeating-linear-gradient(45deg, #7e7e7e, #7e7e7e 10px, #5c5c5c 10px, #5c5c5c 20px);\n",
       "    }\n",
       "    .progress-bar-interrupted, .progress-bar-interrupted::-webkit-progress-bar {\n",
       "        background: #F44336;\n",
       "    }\n",
       "</style>\n"
      ],
      "text/plain": [
       "<IPython.core.display.HTML object>"
      ]
     },
     "metadata": {},
     "output_type": "display_data"
    },
    {
     "data": {
      "text/html": [
       "\n",
       "    <div>\n",
       "      <progress value='1000' class='' max='1000' style='width:300px; height:20px; vertical-align: middle;'></progress>\n",
       "      100.00% [1000/1000 00:06&lt;00:00]\n",
       "    </div>\n",
       "    "
      ],
      "text/plain": [
       "<IPython.core.display.HTML object>"
      ]
     },
     "metadata": {},
     "output_type": "display_data"
    },
    {
     "data": {
      "text/html": [
       "<div>\n",
       "<style scoped>\n",
       "    .dataframe tbody tr th:only-of-type {\n",
       "        vertical-align: middle;\n",
       "    }\n",
       "\n",
       "    .dataframe tbody tr th {\n",
       "        vertical-align: top;\n",
       "    }\n",
       "\n",
       "    .dataframe thead th {\n",
       "        text-align: right;\n",
       "    }\n",
       "</style>\n",
       "<table border=\"1\" class=\"dataframe\">\n",
       "  <thead>\n",
       "    <tr style=\"text-align: right;\">\n",
       "      <th></th>\n",
       "      <th>Log Name</th>\n",
       "      <th>F1 Score</th>\n",
       "      <th>Precision</th>\n",
       "      <th>Recall</th>\n",
       "      <th>Anomaly Ratio</th>\n",
       "    </tr>\n",
       "  </thead>\n",
       "  <tbody>\n",
       "    <tr>\n",
       "      <th>0.000</th>\n",
       "      <td>1001001</td>\n",
       "      <td>0.003914</td>\n",
       "      <td>0.489980</td>\n",
       "      <td>0.997959</td>\n",
       "      <td>0.998</td>\n",
       "    </tr>\n",
       "    <tr>\n",
       "      <th>0.001</th>\n",
       "      <td>1001001</td>\n",
       "      <td>0.003914</td>\n",
       "      <td>0.489980</td>\n",
       "      <td>0.997959</td>\n",
       "      <td>0.998</td>\n",
       "    </tr>\n",
       "    <tr>\n",
       "      <th>0.002</th>\n",
       "      <td>1001001</td>\n",
       "      <td>0.003914</td>\n",
       "      <td>0.489980</td>\n",
       "      <td>0.997959</td>\n",
       "      <td>0.998</td>\n",
       "    </tr>\n",
       "    <tr>\n",
       "      <th>0.003</th>\n",
       "      <td>1001001</td>\n",
       "      <td>0.003914</td>\n",
       "      <td>0.489980</td>\n",
       "      <td>0.997959</td>\n",
       "      <td>0.998</td>\n",
       "    </tr>\n",
       "    <tr>\n",
       "      <th>0.004</th>\n",
       "      <td>1001001</td>\n",
       "      <td>0.003914</td>\n",
       "      <td>0.489980</td>\n",
       "      <td>0.997959</td>\n",
       "      <td>0.998</td>\n",
       "    </tr>\n",
       "    <tr>\n",
       "      <th>...</th>\n",
       "      <td>...</td>\n",
       "      <td>...</td>\n",
       "      <td>...</td>\n",
       "      <td>...</td>\n",
       "      <td>...</td>\n",
       "    </tr>\n",
       "    <tr>\n",
       "      <th>0.995</th>\n",
       "      <td>1001001</td>\n",
       "      <td>0.775937</td>\n",
       "      <td>0.996795</td>\n",
       "      <td>0.634694</td>\n",
       "      <td>0.312</td>\n",
       "    </tr>\n",
       "    <tr>\n",
       "      <th>0.996</th>\n",
       "      <td>1001001</td>\n",
       "      <td>0.743047</td>\n",
       "      <td>0.996564</td>\n",
       "      <td>0.591837</td>\n",
       "      <td>0.291</td>\n",
       "    </tr>\n",
       "    <tr>\n",
       "      <th>0.997</th>\n",
       "      <td>1001001</td>\n",
       "      <td>0.716772</td>\n",
       "      <td>0.996364</td>\n",
       "      <td>0.559184</td>\n",
       "      <td>0.275</td>\n",
       "    </tr>\n",
       "    <tr>\n",
       "      <th>0.998</th>\n",
       "      <td>1001001</td>\n",
       "      <td>0.657110</td>\n",
       "      <td>0.995851</td>\n",
       "      <td>0.489796</td>\n",
       "      <td>0.241</td>\n",
       "    </tr>\n",
       "    <tr>\n",
       "      <th>0.999</th>\n",
       "      <td>1001001</td>\n",
       "      <td>0.545701</td>\n",
       "      <td>0.994595</td>\n",
       "      <td>0.375510</td>\n",
       "      <td>0.185</td>\n",
       "    </tr>\n",
       "  </tbody>\n",
       "</table>\n",
       "<p>1000 rows × 5 columns</p>\n",
       "</div>"
      ],
      "text/plain": [
       "      Log Name  F1 Score  Precision    Recall  Anomaly Ratio\n",
       "0.000  1001001  0.003914   0.489980  0.997959          0.998\n",
       "0.001  1001001  0.003914   0.489980  0.997959          0.998\n",
       "0.002  1001001  0.003914   0.489980  0.997959          0.998\n",
       "0.003  1001001  0.003914   0.489980  0.997959          0.998\n",
       "0.004  1001001  0.003914   0.489980  0.997959          0.998\n",
       "...        ...       ...        ...       ...            ...\n",
       "0.995  1001001  0.775937   0.996795  0.634694          0.312\n",
       "0.996  1001001  0.743047   0.996564  0.591837          0.291\n",
       "0.997  1001001  0.716772   0.996364  0.559184          0.275\n",
       "0.998  1001001  0.657110   0.995851  0.489796          0.241\n",
       "0.999  1001001  0.545701   0.994595  0.375510          0.185\n",
       "\n",
       "[1000 rows x 5 columns]"
      ]
     },
     "execution_count": null,
     "metadata": {},
     "output_type": "execute_result"
    }
   ],
   "source": [
    "th_df = get_th_df(ths,score_df,y_true,log_name)\n",
    "th_df"
   ]
  },
  {
   "cell_type": "markdown",
   "id": "fed25013",
   "metadata": {},
   "source": [
    "## Heuristics"
   ]
  },
  {
   "cell_type": "markdown",
   "id": "1922352c",
   "metadata": {},
   "source": [
    "Best Threshold"
   ]
  },
  {
   "cell_type": "code",
   "execution_count": null,
   "id": "0011fba2",
   "metadata": {},
   "outputs": [],
   "source": [
    "#| export\n",
    "def get_best_threshhold(th_df): return th_df.iloc[th_df['F1 Score'].argmax()]\n"
   ]
  },
  {
   "cell_type": "code",
   "execution_count": null,
   "id": "a6bfbaf6",
   "metadata": {},
   "outputs": [
    {
     "data": {
      "text/plain": [
       "Log Name          1001001\n",
       "F1 Score         0.953093\n",
       "Precision        0.943888\n",
       "Recall           0.961224\n",
       "Anomaly Ratio       0.499\n",
       "Name: 0.9430000000000001, dtype: object"
      ]
     },
     "execution_count": null,
     "metadata": {},
     "output_type": "execute_result"
    }
   ],
   "source": [
    "best_threshhold = get_best_threshhold(th_df)\n",
    "best_threshhold"
   ]
  },
  {
   "cell_type": "markdown",
   "id": "3f63007a",
   "metadata": {},
   "source": [
    "Fixed Threshold"
   ]
  },
  {
   "cell_type": "code",
   "execution_count": null,
   "id": "eac51229",
   "metadata": {},
   "outputs": [],
   "source": [
    "#| export\n",
    "def get_fixed_heuristic(fixed,th_df): return th_df.iloc[np.absolute(th_df.index.to_numpy()-fixed).argmin()]\n"
   ]
  },
  {
   "cell_type": "code",
   "execution_count": null,
   "id": "eb5d9fa5",
   "metadata": {},
   "outputs": [
    {
     "data": {
      "text/plain": [
       "Log Name          1001001\n",
       "F1 Score         0.932661\n",
       "Precision         0.97973\n",
       "Recall           0.887755\n",
       "Anomaly Ratio       0.444\n",
       "Name: 0.98, dtype: object"
      ]
     },
     "execution_count": null,
     "metadata": {},
     "output_type": "execute_result"
    }
   ],
   "source": [
    "fixed = 0.98\n",
    "\n",
    "fixed_heuristic =get_fixed_heuristic(fixed,th_df)\n",
    "fixed_heuristic"
   ]
  },
  {
   "cell_type": "markdown",
   "id": "ea05058f",
   "metadata": {},
   "source": [
    "Ratio Heuristic"
   ]
  },
  {
   "cell_type": "code",
   "execution_count": null,
   "id": "54e7042d",
   "metadata": {},
   "outputs": [],
   "source": [
    "#| export\n",
    "def get_ratio_th(ratio,th_df):return th_df.iloc[th_df['Anomaly Ratio'].sub(ratio).abs().argmin()]\n"
   ]
  },
  {
   "cell_type": "code",
   "execution_count": null,
   "id": "519f8aeb",
   "metadata": {},
   "outputs": [
    {
     "data": {
      "text/plain": [
       "Log Name          1001001\n",
       "F1 Score         0.953093\n",
       "Precision        0.943888\n",
       "Recall           0.961224\n",
       "Anomaly Ratio       0.499\n",
       "Name: 0.9430000000000001, dtype: object"
      ]
     },
     "execution_count": null,
     "metadata": {},
     "output_type": "execute_result"
    }
   ],
   "source": [
    "ratio =0.5\n",
    "ratio_heuristic =get_ratio_th(ratio,th_df)\n",
    "ratio_heuristic"
   ]
  },
  {
   "cell_type": "code",
   "execution_count": null,
   "id": "16c32155",
   "metadata": {},
   "outputs": [
    {
     "data": {
      "text/plain": [
       "Log Name          1001001\n",
       "F1 Score         0.953093\n",
       "Precision        0.943888\n",
       "Recall           0.961224\n",
       "Anomaly Ratio       0.499\n",
       "Name: 0.9430000000000001, dtype: object"
      ]
     },
     "execution_count": null,
     "metadata": {},
     "output_type": "execute_result"
    }
   ],
   "source": [
    "half_ratio = partial(get_ratio_th,0.5)\n",
    "half_ratio(th_df)"
   ]
  },
  {
   "cell_type": "markdown",
   "id": "96f86796",
   "metadata": {},
   "source": [
    "Ellbow Heuristic"
   ]
  },
  {
   "cell_type": "code",
   "execution_count": null,
   "id": "93a88ecc",
   "metadata": {},
   "outputs": [],
   "source": [
    "#| export\n",
    "def elbow_heuristic(th_df):\n",
    "    taus = th_df.index.to_numpy()\n",
    "    r = th_df['Anomaly Ratio'].to_numpy()\n",
    "    step = taus[1:] - taus[:-1]\n",
    "    r_prime_prime = (r[2:] - 2 * r[1:-1] + r[:-2]) / (step[1:] * step[:-1])\n",
    "    ellbow_down = th_df.iloc[np.argmax(r_prime_prime) + 1]\n",
    "    ellbow_up = th_df.iloc[np.argmin(r_prime_prime) + 1]\n",
    "    return ellbow_down,ellbow_up\n"
   ]
  },
  {
   "cell_type": "code",
   "execution_count": null,
   "id": "7be17146",
   "metadata": {},
   "outputs": [
    {
     "data": {
      "text/plain": [
       "(Log Name          1001001\n",
       " F1 Score         0.820048\n",
       " Precision        0.760188\n",
       " Recall           0.989796\n",
       " Anomaly Ratio       0.638\n",
       " Name: 0.6880000000000001, dtype: object,\n",
       " Log Name          1001001\n",
       " F1 Score          0.65711\n",
       " Precision        0.995851\n",
       " Recall           0.489796\n",
       " Anomaly Ratio       0.241\n",
       " Name: 0.998, dtype: object)"
      ]
     },
     "execution_count": null,
     "metadata": {},
     "output_type": "execute_result"
    }
   ],
   "source": [
    "ellbow_down,ellbow_up = elbow_heuristic(th_df)\n",
    "ellbow_down,ellbow_up"
   ]
  },
  {
   "cell_type": "markdown",
   "id": "d4296f24",
   "metadata": {},
   "source": [
    "Lowest Plateau Heuristic"
   ]
  },
  {
   "cell_type": "code",
   "execution_count": null,
   "id": "f3e60784",
   "metadata": {},
   "outputs": [],
   "source": [
    "#| export\n",
    "def get_lowest_plateau_heuristic(th_df):\n",
    "    taus = th_df.index.to_numpy()\n",
    "    r = th_df['Anomaly Ratio'].to_numpy()\n",
    "    r_prime = (r[1:] - r[:-1]) / (taus[1:] - taus[:-1])\n",
    "    stable_region = r_prime > np.mean(r_prime) / 2\n",
    "    regions = np.split(np.arange(len(stable_region)), np.where(~stable_region)[0])\n",
    "    regions = [taus[idx[1:]] for idx in regions if len(idx) > 1]\n",
    "    if len(regions) == 0:\n",
    "        regions = [taus[-2:]]\n",
    "    lp_min = get_fixed_heuristic(regions[-1].min(),th_df)\n",
    "    lp_mean = get_fixed_heuristic(regions[-1].mean(),th_df)\n",
    "    lp_max = get_fixed_heuristic(regions[-1].max(),th_df)\n",
    "    return lp_min,lp_mean,lp_max\n"
   ]
  },
  {
   "cell_type": "code",
   "execution_count": null,
   "id": "d98ce07a",
   "metadata": {},
   "outputs": [
    {
     "data": {
      "text/plain": [
       "(Log Name          1001001\n",
       " F1 Score         0.941795\n",
       " Precision        0.977974\n",
       " Recall           0.906122\n",
       " Anomaly Ratio       0.454\n",
       " Name: 0.975, dtype: object,\n",
       " Log Name          1001001\n",
       " F1 Score         0.941795\n",
       " Precision        0.977974\n",
       " Recall           0.906122\n",
       " Anomaly Ratio       0.454\n",
       " Name: 0.975, dtype: object,\n",
       " Log Name          1001001\n",
       " F1 Score         0.941795\n",
       " Precision        0.977974\n",
       " Recall           0.906122\n",
       " Anomaly Ratio       0.454\n",
       " Name: 0.975, dtype: object)"
      ]
     },
     "execution_count": null,
     "metadata": {},
     "output_type": "execute_result"
    }
   ],
   "source": [
    "lp_min,lp_mean,lp_max=get_lowest_plateau_heuristic(th_df)\n",
    "lp_min,lp_mean,lp_max"
   ]
  },
  {
   "cell_type": "markdown",
   "id": "551ff9d7",
   "metadata": {},
   "source": [
    "## Visualization\n"
   ]
  },
  {
   "cell_type": "code",
   "execution_count": null,
   "id": "004dfbd4",
   "metadata": {},
   "outputs": [
    {
     "data": {
      "text/html": [
       "\n",
       "<style>\n",
       "    /* Turns off some styling */\n",
       "    progress {\n",
       "        /* gets rid of default border in Firefox and Opera. */\n",
       "        border: none;\n",
       "        /* Needs to be in here for Safari polyfill so background images work as expected. */\n",
       "        background-size: auto;\n",
       "    }\n",
       "    progress:not([value]), progress:not([value])::-webkit-progress-bar {\n",
       "        background: repeating-linear-gradient(45deg, #7e7e7e, #7e7e7e 10px, #5c5c5c 10px, #5c5c5c 20px);\n",
       "    }\n",
       "    .progress-bar-interrupted, .progress-bar-interrupted::-webkit-progress-bar {\n",
       "        background: #F44336;\n",
       "    }\n",
       "</style>\n"
      ],
      "text/plain": [
       "<IPython.core.display.HTML object>"
      ]
     },
     "metadata": {},
     "output_type": "display_data"
    },
    {
     "data": {
      "text/html": [
       "\n",
       "    <div>\n",
       "      <progress value='100' class='' max='100' style='width:300px; height:20px; vertical-align: middle;'></progress>\n",
       "      100.00% [100/100 00:00&lt;00:00]\n",
       "    </div>\n",
       "    "
      ],
      "text/plain": [
       "<IPython.core.display.HTML object>"
      ]
     },
     "metadata": {},
     "output_type": "display_data"
    }
   ],
   "source": [
    "log_name = '1001001'\n",
    "score_df,y_true = get_score_df(log_name)\n",
    "ths = np.array((range(100)))*0.001 +0.9\n",
    "th_df = get_th_df(ths,score_df,y_true,log_name)\n",
    "heuristics = [get_best_threshhold,partial(get_ratio_th,0.5),elbow_heuristic,\n",
    "              partial(get_fixed_heuristic,0.98),get_lowest_plateau_heuristic]\n",
    "heuristic_names = ['best','r_0.5','e_down','e_up','fix','lp_min','lp_mean','lp_max']\n",
    "heuristic_scores =[i for j in [listify(x(th_df)) for x in heuristics] for i in j]"
   ]
  },
  {
   "cell_type": "code",
   "execution_count": null,
   "id": "6706c386",
   "metadata": {},
   "outputs": [],
   "source": [
    "#export\n",
    "def get_plot_data(th_df,id_vars=['Log Name'],value_vars = ['F1 Score','Anomaly Ratio']):\n",
    "    plot_data=th_df.melt(var_name='Metric',value_name='Score',id_vars =id_vars ,value_vars=value_vars,ignore_index=False)\n",
    "    plot_data['Threshold']=plot_data.index\n",
    "    plot_data.index=range(len(plot_data))\n",
    "    return plot_data\n"
   ]
  },
  {
   "cell_type": "code",
   "execution_count": null,
   "id": "c330cf42",
   "metadata": {},
   "outputs": [],
   "source": [
    "plot_data = get_plot_data(th_df)"
   ]
  },
  {
   "cell_type": "code",
   "execution_count": null,
   "id": "979f71ce",
   "metadata": {},
   "outputs": [
    {
     "data": {
      "text/plain": [
       "<matplotlib.legend.Legend>"
      ]
     },
     "execution_count": null,
     "metadata": {},
     "output_type": "execute_result"
    },
    {
     "data": {
      "image/png": "[encoded data removed]",
      "text/plain": [
       "<Figure size 1800x1000 with 1 Axes>"
      ]
     },
     "metadata": {},
     "output_type": "display_data"
    }
   ],
   "source": [
    "color_palette = sns.color_palette()\n",
    "sns.set(rc={'figure.figsize':(18,10)})\n",
    "\n",
    "sns.lineplot(x=\"Threshold\", y=\"Score\",\n",
    "             hue=\"Metric\",\n",
    "             data=plot_data).set(title=f'Log: {log_name}')\n",
    "for i in range(len(heuristic_scores)):\n",
    "    plt.axvline(heuristic_scores[i].name, 0,1,color=color_palette[i],linestyle='--',\n",
    "                label=f\"~{heuristic_names[i]}, {heuristic_scores[i].name}, {heuristic_scores[i]['F1 Score'].round(2)}\")\n",
    "plt.legend(bbox_to_anchor=(1.05, 1), loc=2, borderaxespad=0.)\n"
   ]
  },
  {
   "cell_type": "code",
   "execution_count": null,
   "id": "52eaa05e",
   "metadata": {},
   "outputs": [
    {
     "data": {
      "text/html": [
       "<div>\n",
       "<style scoped>\n",
       "    .dataframe tbody tr th:only-of-type {\n",
       "        vertical-align: middle;\n",
       "    }\n",
       "\n",
       "    .dataframe tbody tr th {\n",
       "        vertical-align: top;\n",
       "    }\n",
       "\n",
       "    .dataframe thead th {\n",
       "        text-align: right;\n",
       "    }\n",
       "</style>\n",
       "<table border=\"1\" class=\"dataframe\">\n",
       "  <thead>\n",
       "    <tr style=\"text-align: right;\">\n",
       "      <th></th>\n",
       "      <th>Threshold</th>\n",
       "      <th>F1-Score</th>\n",
       "    </tr>\n",
       "  </thead>\n",
       "  <tbody>\n",
       "    <tr>\n",
       "      <th>best</th>\n",
       "      <td>0.943</td>\n",
       "      <td>0.953093</td>\n",
       "    </tr>\n",
       "    <tr>\n",
       "      <th>r_0.5</th>\n",
       "      <td>0.943</td>\n",
       "      <td>0.953093</td>\n",
       "    </tr>\n",
       "    <tr>\n",
       "      <th>e_down</th>\n",
       "      <td>0.994</td>\n",
       "      <td>0.798393</td>\n",
       "    </tr>\n",
       "    <tr>\n",
       "      <th>e_up</th>\n",
       "      <td>0.998</td>\n",
       "      <td>0.657110</td>\n",
       "    </tr>\n",
       "    <tr>\n",
       "      <th>fix</th>\n",
       "      <td>0.980</td>\n",
       "      <td>0.932661</td>\n",
       "    </tr>\n",
       "    <tr>\n",
       "      <th>lp_min</th>\n",
       "      <td>0.980</td>\n",
       "      <td>0.932661</td>\n",
       "    </tr>\n",
       "    <tr>\n",
       "      <th>lp_mean</th>\n",
       "      <td>0.980</td>\n",
       "      <td>0.932661</td>\n",
       "    </tr>\n",
       "    <tr>\n",
       "      <th>lp_max</th>\n",
       "      <td>0.980</td>\n",
       "      <td>0.932661</td>\n",
       "    </tr>\n",
       "  </tbody>\n",
       "</table>\n",
       "</div>"
      ],
      "text/plain": [
       "         Threshold  F1-Score\n",
       "best         0.943  0.953093\n",
       "r_0.5        0.943  0.953093\n",
       "e_down       0.994  0.798393\n",
       "e_up         0.998  0.657110\n",
       "fix          0.980  0.932661\n",
       "lp_min       0.980  0.932661\n",
       "lp_mean      0.980  0.932661\n",
       "lp_max       0.980  0.932661"
      ]
     },
     "execution_count": null,
     "metadata": {},
     "output_type": "execute_result"
    }
   ],
   "source": [
    "pd.DataFrame(zip([i.name for i in heuristic_scores],[i['F1 Score'] for i in heuristic_scores]),\n",
    "             columns=['Threshold','F1-Score'],index=heuristic_names)"
   ]
  },
  {
   "cell_type": "markdown",
   "id": "6446dd50",
   "metadata": {},
   "source": [
    "## Export -"
   ]
  },
  {
   "cell_type": "code",
   "execution_count": null,
   "id": "b0a7e786",
   "metadata": {},
   "outputs": [],
   "source": [
    "#| hide\n",
    "import nbdev; nbdev.nbdev_export()"
   ]
  },
  {
   "cell_type": "code",
   "execution_count": null,
   "id": "86cb9671",
   "metadata": {},
   "outputs": [],
   "source": []
  }
 ],
 "metadata": {
  "kernelspec": {
   "display_name": "pympp",
   "language": "python",
   "name": "pympp"
  }
 },
 "nbformat": 4,
 "nbformat_minor": 5
}
