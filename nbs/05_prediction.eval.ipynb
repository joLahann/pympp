{
 "cells": [
  {
   "cell_type": "markdown",
   "metadata": {},
   "source": [
    "Prediction Evaluation\n",
    "===\n"
   ]
  },
  {
   "cell_type": "code",
   "execution_count": null,
   "metadata": {},
   "outputs": [],
   "source": [
    "#| default_exp prediction.eval"
   ]
  },
  {
   "cell_type": "code",
   "execution_count": null,
   "metadata": {},
   "outputs": [],
   "source": [
    "#| hide\n",
    "\n",
    "%load_ext autoreload\n",
    "%autoreload 2\n",
    "%load_ext memory_profiler\n",
    "%load_ext line_profiler\n",
    "%matplotlib inline"
   ]
  },
  {
   "cell_type": "code",
   "execution_count": null,
   "metadata": {},
   "outputs": [],
   "source": [
    "#| hide\n",
    "from nbdev.showdoc import *"
   ]
  },
  {
   "cell_type": "code",
   "execution_count": null,
   "metadata": {},
   "outputs": [],
   "source": [
    "#| export\n",
    "from pympp.process import *\n",
    "from pympp.prediction.predict import *\n",
    "from pympp.prediction.models import *\n",
    "from pympp.prediction.mppn import *\n"
   ]
  },
  {
   "cell_type": "code",
   "execution_count": null,
   "metadata": {},
   "outputs": [],
   "source": [
    "_RUN_TRAINING=True"
   ]
  },
  {
   "cell_type": "markdown",
   "metadata": {},
   "source": [
    "## Runner"
   ]
  },
  {
   "cell_type": "markdown",
   "metadata": {},
   "source": [
    "This section runs the process prediction experiment"
   ]
  },
  {
   "cell_type": "code",
   "execution_count": null,
   "metadata": {},
   "outputs": [],
   "source": [
    "#| export\n",
    "ds_folder = \"../data/logs/csv/mppn_ds/\"\n",
    "ds_names=[\n",
    "    \"Helpdesk\",\n",
    "    \"Mobis\",\n",
    "    \"BPIC_12\",\n",
    "    \"BPIC_12_A\",\n",
    "    \"BPIC_12_O\",\n",
    "    \"BPIC_12_Wcomplete\",\n",
    "    \"BPIC_13_CP\",\n",
    "    \"BPIC_17_OFFER\",\n",
    "    \"BPIC_20_RFP\"\n",
    "\n",
    "]\n",
    "logs = [f\"{ds_folder}{ds_name}.csv\" for ds_name in ds_names]\n",
    "ppms=[\n",
    "    PPM_Evermann,\n",
    "    PPM_Tax_Spezialized,\n",
    "    PPM_Tax_Shared,\n",
    "    PPM_Tax_Mixed,\n",
    "    PPM_Camargo_Spezialized,\n",
    "    PPM_Camargo_concat,\n",
    "    PPM_Camargo_fullconcat,\n",
    "    PPM_MiDA,\n",
    "    PPM_MPPN\n",
    "]"
   ]
  },
  {
   "cell_type": "code",
   "execution_count": null,
   "metadata": {},
   "outputs": [
    {
     "data": {
      "application/vnd.jupyter.widget-view+json": {
       "model_id": "cb8e81d60da14c9da77264b1a0e28fdf",
       "version_major": 2,
       "version_minor": 0
      },
      "text/plain": [
       "Runs:   0%|          | 0/1 [00:00<?, ?it/s]"
      ]
     },
     "metadata": {},
     "output_type": "display_data"
    },
    {
     "data": {
      "application/vnd.jupyter.widget-view+json": {
       "model_id": "",
       "version_major": 2,
       "version_minor": 0
      },
      "text/plain": [
       "  0%|          | 0/1 [00:00<?, ?it/s]"
      ]
     },
     "metadata": {},
     "output_type": "display_data"
    },
    {
     "data": {
      "application/vnd.jupyter.widget-view+json": {
       "model_id": "",
       "version_major": 2,
       "version_minor": 0
      },
      "text/plain": [
       "  0%|          | 0/9 [00:00<?, ?it/s]"
      ]
     },
     "metadata": {},
     "output_type": "display_data"
    },
    {
     "name": "stdout",
     "output_type": "stream",
     "text": [
      "CPU times: user 32min 27s, sys: 4min 4s, total: 36min 32s\n",
      "Wall time: 11min 49s\n"
     ]
    }
   ],
   "source": [
    "%%time\n",
    "if _RUN_TRAINING:\n",
    "    res=runner(logs[0:1],ppms,attr_dict=attr_dict,sample=False,epoch=1,runs=1,store=True,bs=512,print_output=False)"
   ]
  },
  {
   "cell_type": "markdown",
   "metadata": {},
   "source": [
    "## Shell script:\n"
   ]
  },
  {
   "cell_type": "code",
   "execution_count": null,
   "metadata": {},
   "outputs": [],
   "source": [
    "#| export\n",
    "\n",
    "from tqdm import tqdm as tqdm_console\n",
    "import fire\n",
    "from fastai.basics import *"
   ]
  },
  {
   "cell_type": "code",
   "execution_count": null,
   "metadata": {},
   "outputs": [],
   "source": [
    "#| export, |eval: false\n",
    "\n",
    "\n",
    "def isnotebook():\n",
    "    try:\n",
    "        shell = get_ipython().__class__.__name__\n",
    "        if shell == 'ZMQInteractiveShell':\n",
    "            return True   # Jupyter notebook or qtconsole\n",
    "        elif shell == 'TerminalInteractiveShell':\n",
    "            return False  # Terminal running IPython\n",
    "        else:\n",
    "            return False  # Other type (?)\n",
    "    except NameError:\n",
    "        return False\n",
    "\n",
    "def command_line(log_idx=range(len(logs)),ppm_idx=range(len(ppms)),sample=False,store=True, runs=1,\n",
    "                     bs=64,print_output=False,patience=3, min_delta=0.005, epoch=20, seed=42):\n",
    "    log_sel=L(logs)[log_idx]\n",
    "    ppm_sel=L(ppms)[ppm_idx]\n",
    "    runner(log_sel,ppm_sel,attr_dict=attr_dict, sample=sample,store=store,epoch=epoch,tqdm=tqdm_console,\n",
    "       print_output=print_output,bs=bs,patience=patience,min_delta=min_delta,runs=runs,seed=seed)\n",
    "\n",
    "if __name__ == '__main__' and not isnotebook():\n",
    "    fire.Fire(command_line)"
   ]
  },
  {
   "cell_type": "markdown",
   "metadata": {},
   "source": [
    "## Export -"
   ]
  },
  {
   "cell_type": "code",
   "execution_count": null,
   "metadata": {},
   "outputs": [],
   "source": [
    "#| hide\n",
    "import nbdev; nbdev.nbdev_export()"
   ]
  },
  {
   "cell_type": "code",
   "execution_count": null,
   "metadata": {},
   "outputs": [],
   "source": []
  }
 ],
 "metadata": {
  "kernelspec": {
   "display_name": "pympp",
   "language": "python",
   "name": "pympp"
  }
 },
 "nbformat": 4,
 "nbformat_minor": 4
}
